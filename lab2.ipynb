{
 "cells": [
  {
   "cell_type": "markdown",
   "metadata": {},
   "source": [
    "# Лабораторная работа 2 (Linear Model)"
   ]
  },
  {
   "cell_type": "code",
   "execution_count": 1,
   "metadata": {},
   "outputs": [],
   "source": [
    "import pandas as pd\n",
    "import matplotlib.pyplot as plt\n",
    "import numpy as np\n",
    "from sklearn.model_selection import train_test_split\n",
    "from sklearn.impute import SimpleImputer\n",
    "from sklearn.preprocessing import LabelEncoder, StandardScaler, OneHotEncoder, OrdinalEncoder\n",
    "from sklearn.metrics import mean_absolute_error, mean_squared_error, r2_score, accuracy_score, precision_score, recall_score, f1_score\n",
    "from sklearn.linear_model import LinearRegression, LogisticRegression, ElasticNet\n",
    "from utils import regression_cross_validate, display_metrics_table, classification_cross_validate, display_metrics_classification_table\n",
    "\n",
    "import warnings\n",
    "warnings.filterwarnings(\"ignore\")"
   ]
  },
  {
   "cell_type": "markdown",
   "metadata": {},
   "source": [
    "### Regression"
   ]
  },
  {
   "cell_type": "markdown",
   "metadata": {},
   "source": [
    "#### 1. Обработка данных"
   ]
  },
  {
   "cell_type": "code",
   "execution_count": 2,
   "metadata": {},
   "outputs": [
    {
     "data": {
      "text/html": [
       "<div>\n",
       "<style scoped>\n",
       "    .dataframe tbody tr th:only-of-type {\n",
       "        vertical-align: middle;\n",
       "    }\n",
       "\n",
       "    .dataframe tbody tr th {\n",
       "        vertical-align: top;\n",
       "    }\n",
       "\n",
       "    .dataframe thead th {\n",
       "        text-align: right;\n",
       "    }\n",
       "</style>\n",
       "<table border=\"1\" class=\"dataframe\">\n",
       "  <thead>\n",
       "    <tr style=\"text-align: right;\">\n",
       "      <th></th>\n",
       "      <th>Company</th>\n",
       "      <th>Product</th>\n",
       "      <th>TypeName</th>\n",
       "      <th>Inches</th>\n",
       "      <th>Ram</th>\n",
       "      <th>OS</th>\n",
       "      <th>Weight</th>\n",
       "      <th>Price_euros</th>\n",
       "      <th>Screen</th>\n",
       "      <th>ScreenW</th>\n",
       "      <th>...</th>\n",
       "      <th>RetinaDisplay</th>\n",
       "      <th>CPU_company</th>\n",
       "      <th>CPU_freq</th>\n",
       "      <th>CPU_model</th>\n",
       "      <th>PrimaryStorage</th>\n",
       "      <th>SecondaryStorage</th>\n",
       "      <th>PrimaryStorageType</th>\n",
       "      <th>SecondaryStorageType</th>\n",
       "      <th>GPU_company</th>\n",
       "      <th>GPU_model</th>\n",
       "    </tr>\n",
       "  </thead>\n",
       "  <tbody>\n",
       "    <tr>\n",
       "      <th>0</th>\n",
       "      <td>Apple</td>\n",
       "      <td>MacBook Pro</td>\n",
       "      <td>Ultrabook</td>\n",
       "      <td>13.3</td>\n",
       "      <td>8</td>\n",
       "      <td>macOS</td>\n",
       "      <td>1.37</td>\n",
       "      <td>1339.69</td>\n",
       "      <td>Standard</td>\n",
       "      <td>2560</td>\n",
       "      <td>...</td>\n",
       "      <td>Yes</td>\n",
       "      <td>Intel</td>\n",
       "      <td>2.3</td>\n",
       "      <td>Core i5</td>\n",
       "      <td>128</td>\n",
       "      <td>0</td>\n",
       "      <td>SSD</td>\n",
       "      <td>No</td>\n",
       "      <td>Intel</td>\n",
       "      <td>Iris Plus Graphics 640</td>\n",
       "    </tr>\n",
       "    <tr>\n",
       "      <th>1</th>\n",
       "      <td>Apple</td>\n",
       "      <td>Macbook Air</td>\n",
       "      <td>Ultrabook</td>\n",
       "      <td>13.3</td>\n",
       "      <td>8</td>\n",
       "      <td>macOS</td>\n",
       "      <td>1.34</td>\n",
       "      <td>898.94</td>\n",
       "      <td>Standard</td>\n",
       "      <td>1440</td>\n",
       "      <td>...</td>\n",
       "      <td>No</td>\n",
       "      <td>Intel</td>\n",
       "      <td>1.8</td>\n",
       "      <td>Core i5</td>\n",
       "      <td>128</td>\n",
       "      <td>0</td>\n",
       "      <td>Flash Storage</td>\n",
       "      <td>No</td>\n",
       "      <td>Intel</td>\n",
       "      <td>HD Graphics 6000</td>\n",
       "    </tr>\n",
       "    <tr>\n",
       "      <th>2</th>\n",
       "      <td>HP</td>\n",
       "      <td>250 G6</td>\n",
       "      <td>Notebook</td>\n",
       "      <td>15.6</td>\n",
       "      <td>8</td>\n",
       "      <td>No OS</td>\n",
       "      <td>1.86</td>\n",
       "      <td>575.00</td>\n",
       "      <td>Full HD</td>\n",
       "      <td>1920</td>\n",
       "      <td>...</td>\n",
       "      <td>No</td>\n",
       "      <td>Intel</td>\n",
       "      <td>2.5</td>\n",
       "      <td>Core i5 7200U</td>\n",
       "      <td>256</td>\n",
       "      <td>0</td>\n",
       "      <td>SSD</td>\n",
       "      <td>No</td>\n",
       "      <td>Intel</td>\n",
       "      <td>HD Graphics 620</td>\n",
       "    </tr>\n",
       "    <tr>\n",
       "      <th>3</th>\n",
       "      <td>Apple</td>\n",
       "      <td>MacBook Pro</td>\n",
       "      <td>Ultrabook</td>\n",
       "      <td>15.4</td>\n",
       "      <td>16</td>\n",
       "      <td>macOS</td>\n",
       "      <td>1.83</td>\n",
       "      <td>2537.45</td>\n",
       "      <td>Standard</td>\n",
       "      <td>2880</td>\n",
       "      <td>...</td>\n",
       "      <td>Yes</td>\n",
       "      <td>Intel</td>\n",
       "      <td>2.7</td>\n",
       "      <td>Core i7</td>\n",
       "      <td>512</td>\n",
       "      <td>0</td>\n",
       "      <td>SSD</td>\n",
       "      <td>No</td>\n",
       "      <td>AMD</td>\n",
       "      <td>Radeon Pro 455</td>\n",
       "    </tr>\n",
       "    <tr>\n",
       "      <th>4</th>\n",
       "      <td>Apple</td>\n",
       "      <td>MacBook Pro</td>\n",
       "      <td>Ultrabook</td>\n",
       "      <td>13.3</td>\n",
       "      <td>8</td>\n",
       "      <td>macOS</td>\n",
       "      <td>1.37</td>\n",
       "      <td>1803.60</td>\n",
       "      <td>Standard</td>\n",
       "      <td>2560</td>\n",
       "      <td>...</td>\n",
       "      <td>Yes</td>\n",
       "      <td>Intel</td>\n",
       "      <td>3.1</td>\n",
       "      <td>Core i5</td>\n",
       "      <td>256</td>\n",
       "      <td>0</td>\n",
       "      <td>SSD</td>\n",
       "      <td>No</td>\n",
       "      <td>Intel</td>\n",
       "      <td>Iris Plus Graphics 650</td>\n",
       "    </tr>\n",
       "  </tbody>\n",
       "</table>\n",
       "<p>5 rows × 23 columns</p>\n",
       "</div>"
      ],
      "text/plain": [
       "  Company      Product   TypeName  Inches  Ram     OS  Weight  Price_euros  \\\n",
       "0   Apple  MacBook Pro  Ultrabook    13.3    8  macOS    1.37      1339.69   \n",
       "1   Apple  Macbook Air  Ultrabook    13.3    8  macOS    1.34       898.94   \n",
       "2      HP       250 G6   Notebook    15.6    8  No OS    1.86       575.00   \n",
       "3   Apple  MacBook Pro  Ultrabook    15.4   16  macOS    1.83      2537.45   \n",
       "4   Apple  MacBook Pro  Ultrabook    13.3    8  macOS    1.37      1803.60   \n",
       "\n",
       "     Screen  ScreenW  ...  RetinaDisplay CPU_company CPU_freq      CPU_model  \\\n",
       "0  Standard     2560  ...            Yes       Intel      2.3        Core i5   \n",
       "1  Standard     1440  ...             No       Intel      1.8        Core i5   \n",
       "2   Full HD     1920  ...             No       Intel      2.5  Core i5 7200U   \n",
       "3  Standard     2880  ...            Yes       Intel      2.7        Core i7   \n",
       "4  Standard     2560  ...            Yes       Intel      3.1        Core i5   \n",
       "\n",
       "  PrimaryStorage  SecondaryStorage PrimaryStorageType  SecondaryStorageType  \\\n",
       "0            128                 0                SSD                    No   \n",
       "1            128                 0      Flash Storage                    No   \n",
       "2            256                 0                SSD                    No   \n",
       "3            512                 0                SSD                    No   \n",
       "4            256                 0                SSD                    No   \n",
       "\n",
       "   GPU_company               GPU_model  \n",
       "0        Intel  Iris Plus Graphics 640  \n",
       "1        Intel        HD Graphics 6000  \n",
       "2        Intel         HD Graphics 620  \n",
       "3          AMD          Radeon Pro 455  \n",
       "4        Intel  Iris Plus Graphics 650  \n",
       "\n",
       "[5 rows x 23 columns]"
      ]
     },
     "execution_count": 2,
     "metadata": {},
     "output_type": "execute_result"
    }
   ],
   "source": [
    "df = pd.read_csv('data/laptop_prices.csv')\n",
    "df.head()"
   ]
  },
  {
   "cell_type": "code",
   "execution_count": 3,
   "metadata": {},
   "outputs": [],
   "source": [
    "features, target = df.drop(columns=['Price_euros']), df['Price_euros']\n",
    "\n",
    "num_cols = features.select_dtypes(include=[np.number]).columns  # Численные признаки\n",
    "cat_cols = features.select_dtypes(exclude=[np.number]).columns  # Категориальные признаки\n",
    "\n",
    "train_features, test_features, train_target, test_target = train_test_split(features, target, random_state=42)\n",
    "\n",
    "le = OrdinalEncoder(handle_unknown='use_encoded_value',\n",
    "                    unknown_value=-1)\n",
    "\n",
    "train_features[cat_cols] = le.fit_transform(train_features[cat_cols])\n",
    "test_features[cat_cols] = le.transform(test_features[cat_cols])\n",
    "\n",
    "most_frequent_imputer = SimpleImputer(strategy='most_frequent') \n",
    "train_features = pd.DataFrame(most_frequent_imputer.fit_transform(train_features), columns=train_features.columns)\n",
    "test_features = pd.DataFrame(most_frequent_imputer.transform(test_features), columns=test_features.columns)"
   ]
  },
  {
   "cell_type": "markdown",
   "metadata": {},
   "source": [
    "#### 2. Построение бейзлайна "
   ]
  },
  {
   "cell_type": "markdown",
   "metadata": {},
   "source": [
    "Для оценки модели будем использовать метод кросс валидации, который позволяет более качественно оценить полученные метрики."
   ]
  },
  {
   "cell_type": "code",
   "execution_count": 4,
   "metadata": {},
   "outputs": [
    {
     "name": "stdout",
     "output_type": "stream",
     "text": [
      "| Metric   |          Mean |       Std Dev |\n",
      "|:---------|--------------:|--------------:|\n",
      "| MAE      |    272.669    |    16.5331    |\n",
      "| MSE      | 143590        | 12631.2       |\n",
      "| R2       |      0.703708 |     0.0461453 |\n",
      "\n",
      "=== Результаты на Тесте ===\n",
      "Среднеквадратичная ошибка (MSE): 130868.65\n",
      "Средняя абсолютная ошибка (MAE): 264.34\n",
      "Коэффициент детерминации (R^2): 0.73\n"
     ]
    }
   ],
   "source": [
    "metrics = regression_cross_validate(LinearRegression, train_features.to_numpy(), train_target.to_numpy(), n_folds=5)\n",
    "display_metrics_table(*metrics)\n",
    "\n",
    "linear_model = LinearRegression()\n",
    "linear_model.fit(train_features, train_target)\n",
    "\n",
    "y_pred = linear_model.predict(test_features)\n",
    "\n",
    "# Метрики\n",
    "mse = mean_squared_error(test_target, y_pred)\n",
    "mae = mean_absolute_error(test_target, y_pred)\n",
    "r2 = r2_score(test_target, y_pred)\n",
    "\n",
    "# Вывод метрик\n",
    "print(\"\\n=== Результаты на Тесте ===\")\n",
    "print(f\"Среднеквадратичная ошибка (MSE): {mse:.2f}\")\n",
    "print(f\"Средняя абсолютная ошибка (MAE): {mae:.2f}\")\n",
    "print(f\"Коэффициент детерминации (R^2): {r2:.2f}\")"
   ]
  },
  {
   "cell_type": "markdown",
   "metadata": {},
   "source": [
    "Значение метрики $R^2$ составляет около 0.73, что указывает на то, что модель объясняет примерно 73% вариации данных. Кроме того, среднее абсолютное значение ошибки (MAE) равно 264.34, что характеризует точность предсказаний модели в абсолютных единицах (в среднем предсказания ошибаются примерно на 264 евро)."
   ]
  },
  {
   "cell_type": "markdown",
   "metadata": {},
   "source": [
    "#### 3. Формулировка гипотез"
   ]
  },
  {
   "cell_type": "markdown",
   "metadata": {},
   "source": [
    "Сформулируем несколько гипотез, которые могут помочь улучшить качество модели\n",
    "\n",
    "1) Поменять Encoder категориальных признаков с `LabelEncoder` на `OneHotEncoder`\n",
    "2) Отмасштабировать численные признаки\n",
    "3) Добавить регуляризацию"
   ]
  },
  {
   "cell_type": "code",
   "execution_count": 5,
   "metadata": {},
   "outputs": [],
   "source": [
    "onehot = OneHotEncoder(sparse_output=False, drop='first', handle_unknown='ignore')\n",
    "\n",
    "encoded_train_data = onehot.fit_transform(train_features[cat_cols])\n",
    "encoded_test_data = onehot.transform(test_features[cat_cols])\n",
    "\n",
    "encoded_df = pd.DataFrame(encoded_train_data, columns=onehot.get_feature_names_out(cat_cols))\n",
    "X_train_upd = train_features.drop(columns=cat_cols).reset_index(drop=True)\n",
    "X_train_upd = pd.concat([X_train_upd, encoded_df], axis=1)\n",
    "\n",
    "encoded_df = pd.DataFrame(encoded_test_data, columns=onehot.get_feature_names_out(cat_cols))\n",
    "X_test_upd = test_features.drop(columns=cat_cols).reset_index(drop=True)\n",
    "X_test_upd = pd.concat([X_test_upd, encoded_df], axis=1)\n",
    "\n",
    "scaler = StandardScaler()\n",
    "X_train_upd[num_cols] = scaler.fit_transform(train_features[num_cols])\n",
    "X_test_upd[num_cols] = scaler.transform(test_features[num_cols])"
   ]
  },
  {
   "cell_type": "code",
   "execution_count": 6,
   "metadata": {},
   "outputs": [
    {
     "name": "stdout",
     "output_type": "stream",
     "text": [
      "| Metric   |         Mean |      Std Dev |\n",
      "|:---------|-------------:|-------------:|\n",
      "| MAE      |   191.999    |   12.728     |\n",
      "| MSE      | 80770.6      | 8977.75      |\n",
      "| R2       |     0.833241 |    0.0294235 |\n",
      "\n",
      "=== Результаты на Тесте ===\n",
      "Среднеквадратичная ошибка (MSE): 65975.97\n",
      "Средняя абсолютная ошибка (MAE): 185.85\n",
      "Коэффициент детерминации (R^2): 0.86\n"
     ]
    }
   ],
   "source": [
    "metrics = regression_cross_validate(ElasticNet, X_train_upd.to_numpy(), train_target.to_numpy(), n_folds=5, alpha=0.01, l1_ratio=0.7)\n",
    "display_metrics_table(*metrics)\n",
    "\n",
    "linear_model = ElasticNet(alpha=0.01, l1_ratio=0.7)\n",
    "linear_model.fit(X_train_upd, train_target)\n",
    "\n",
    "y_pred = linear_model.predict(X_test_upd)\n",
    "\n",
    "# Метрики\n",
    "mse = mean_squared_error(test_target, y_pred)\n",
    "mae = mean_absolute_error(test_target, y_pred)\n",
    "r2 = r2_score(test_target, y_pred)\n",
    "\n",
    "# Вывод метрик\n",
    "print(\"\\n=== Результаты на Тесте ===\")\n",
    "print(f\"Среднеквадратичная ошибка (MSE): {mse:.2f}\")\n",
    "print(f\"Средняя абсолютная ошибка (MAE): {mae:.2f}\")\n",
    "print(f\"Коэффициент детерминации (R^2): {r2:.2f}\")"
   ]
  },
  {
   "cell_type": "markdown",
   "metadata": {},
   "source": [
    "Можно заметить, что в среднем показатели метрик значительно улучшились по сравнению с предыдущими результатами. Анализ результатов на тестовой выборке также демонстрирует существенные улучшения, что подтверждает эффективность проведённых модификаций."
   ]
  },
  {
   "cell_type": "markdown",
   "metadata": {},
   "source": [
    "#### 4. Реализация своего класса"
   ]
  },
  {
   "cell_type": "code",
   "execution_count": 7,
   "metadata": {},
   "outputs": [],
   "source": [
    "class MyElasticNet:\n",
    "    def __init__(self, alpha=1.0, l1_ratio=0.5, max_iter=1000, tol=1e-4):\n",
    "        self.alpha = alpha\n",
    "        self.l1_ratio = l1_ratio\n",
    "        self.max_iter = max_iter\n",
    "        self.tol = tol\n",
    "        self.coef_ = None\n",
    "        self.intercept_ = None\n",
    "\n",
    "    def fit(self, features, target):\n",
    "        # Преобразование данных в numpy-формат\n",
    "        features = np.array(features, dtype=np.float64)\n",
    "        target = np.array(target, dtype=np.float64)\n",
    "\n",
    "        # Добавляем bias (сместить данные)\n",
    "        features = np.c_[np.ones(features.shape[0]), features]\n",
    "\n",
    "        # Параметры регуляризации\n",
    "        lambda_1 = self.alpha * self.l1_ratio  # L1-регуляризация\n",
    "        lambda_2 = self.alpha * (1 - self.l1_ratio)  # L2-регуляризация\n",
    "\n",
    "        # Инициализация коэффициентов\n",
    "        n_features = features.shape[1]\n",
    "        self.coef_ = np.zeros(n_features)\n",
    "\n",
    "        # Итеративное решение с L1-регуляризацией\n",
    "        for iteration in range(self.max_iter):\n",
    "            # Предыдущие коэффициенты (для остановки)\n",
    "            coef_old = self.coef_.copy()\n",
    "\n",
    "            # L2-регуляризация: добавляем к (features.T @ features) регуляризующий член\n",
    "            XtX = features.T @ features + lambda_2 * np.eye(n_features)\n",
    "            Xty = features.T @ target\n",
    "\n",
    "            # Решение нормального уравнения\n",
    "            self.coef_ = np.linalg.solve(XtX, Xty - lambda_1 * np.sign(self.coef_))\n",
    "\n",
    "            # Остановка, если изменения малы\n",
    "            if np.linalg.norm(self.coef_ - coef_old, ord=2) < self.tol:\n",
    "                break\n",
    "\n",
    "        # Сохранение смещения отдельно\n",
    "        self.intercept_ = self.coef_[0]\n",
    "        self.coef_ = self.coef_[1:]\n",
    "\n",
    "    def predict(self, features):\n",
    "        # Преобразование данных в numpy-формат\n",
    "        features = np.array(features, dtype=np.float64)\n",
    "\n",
    "        # Добавляем bias (единицы)\n",
    "        features = np.c_[np.ones(features.shape[0]), features]\n",
    "\n",
    "        # Предсказание\n",
    "        return features @ np.r_[self.intercept_, self.coef_]\n"
   ]
  },
  {
   "cell_type": "code",
   "execution_count": 8,
   "metadata": {},
   "outputs": [
    {
     "name": "stdout",
     "output_type": "stream",
     "text": [
      "| Metric   |          Mean |       Std Dev |\n",
      "|:---------|--------------:|--------------:|\n",
      "| MAE      |    272.669    |    16.5331    |\n",
      "| MSE      | 143590        | 12631.2       |\n",
      "| R2       |      0.703708 |     0.0461453 |\n",
      "\n",
      "=== Результаты на Тесте ===\n",
      "Среднеквадратичная ошибка (MSE): 130868.65\n",
      "Средняя абсолютная ошибка (MAE): 264.34\n",
      "Коэффициент детерминации (R^2): 0.73\n"
     ]
    }
   ],
   "source": [
    "metrics = regression_cross_validate(MyElasticNet, train_features.to_numpy(), train_target.to_numpy(), n_folds=5, alpha=0, l1_ratio=0)\n",
    "display_metrics_table(*metrics)\n",
    "\n",
    "linear_model = MyElasticNet(alpha=0, l1_ratio=0)\n",
    "linear_model.fit(train_features, train_target)\n",
    "\n",
    "y_pred = linear_model.predict(test_features)\n",
    "\n",
    "# Метрики\n",
    "mse = mean_squared_error(test_target, y_pred)\n",
    "mae = mean_absolute_error(test_target, y_pred)\n",
    "r2 = r2_score(test_target, y_pred)\n",
    "\n",
    "# Вывод метрик\n",
    "print(\"\\n=== Результаты на Тесте ===\")\n",
    "print(f\"Среднеквадратичная ошибка (MSE): {mse:.2f}\")\n",
    "print(f\"Средняя абсолютная ошибка (MAE): {mae:.2f}\")\n",
    "print(f\"Коэффициент детерминации (R^2): {r2:.2f}\")"
   ]
  },
  {
   "cell_type": "code",
   "execution_count": 9,
   "metadata": {},
   "outputs": [
    {
     "name": "stdout",
     "output_type": "stream",
     "text": [
      "| Metric   |          Mean |       Std Dev |\n",
      "|:---------|--------------:|--------------:|\n",
      "| MAE      |    225.295    |    15.2225    |\n",
      "| MSE      | 113048        | 10085.6       |\n",
      "| R2       |      0.767206 |     0.0346196 |\n",
      "\n",
      "=== Результаты на Тесте ===\n",
      "Среднеквадратичная ошибка (MSE): 85822.38\n",
      "Средняя абсолютная ошибка (MAE): 199.01\n",
      "Коэффициент детерминации (R^2): 0.82\n"
     ]
    }
   ],
   "source": [
    "metrics = regression_cross_validate(MyElasticNet, X_train_upd.to_numpy(), train_target.to_numpy(), n_folds=5, alpha=0.01, l1_ratio=0.7)\n",
    "display_metrics_table(*metrics)\n",
    "\n",
    "linear_model = MyElasticNet(alpha=0.01, l1_ratio=0.7)\n",
    "linear_model.fit(X_train_upd, train_target)\n",
    "\n",
    "y_pred = linear_model.predict(X_test_upd)\n",
    "\n",
    "# Метрики\n",
    "mse = mean_squared_error(test_target, y_pred)\n",
    "mae = mean_absolute_error(test_target, y_pred)\n",
    "r2 = r2_score(test_target, y_pred)\n",
    "\n",
    "# Вывод метрик\n",
    "print(\"\\n=== Результаты на Тесте ===\")\n",
    "print(f\"Среднеквадратичная ошибка (MSE): {mse:.2f}\")\n",
    "print(f\"Средняя абсолютная ошибка (MAE): {mae:.2f}\")\n",
    "print(f\"Коэффициент детерминации (R^2): {r2:.2f}\")"
   ]
  },
  {
   "cell_type": "markdown",
   "metadata": {},
   "source": [
    "Результаты демонстрируют, что разработанная собственная реализация модели в целом обеспечивает уровень качества, сопоставимый с результатами, достигаемыми стандартной моделью из библиотеки `sklearn`."
   ]
  },
  {
   "cell_type": "markdown",
   "metadata": {},
   "source": [
    "### Classification"
   ]
  },
  {
   "cell_type": "markdown",
   "metadata": {},
   "source": [
    "#### 1. Обработка данных"
   ]
  },
  {
   "cell_type": "code",
   "execution_count": 10,
   "metadata": {},
   "outputs": [
    {
     "data": {
      "text/html": [
       "<div>\n",
       "<style scoped>\n",
       "    .dataframe tbody tr th:only-of-type {\n",
       "        vertical-align: middle;\n",
       "    }\n",
       "\n",
       "    .dataframe tbody tr th {\n",
       "        vertical-align: top;\n",
       "    }\n",
       "\n",
       "    .dataframe thead th {\n",
       "        text-align: right;\n",
       "    }\n",
       "</style>\n",
       "<table border=\"1\" class=\"dataframe\">\n",
       "  <thead>\n",
       "    <tr style=\"text-align: right;\">\n",
       "      <th></th>\n",
       "      <th>time</th>\n",
       "      <th>trt</th>\n",
       "      <th>age</th>\n",
       "      <th>wtkg</th>\n",
       "      <th>hemo</th>\n",
       "      <th>homo</th>\n",
       "      <th>drugs</th>\n",
       "      <th>karnof</th>\n",
       "      <th>oprior</th>\n",
       "      <th>z30</th>\n",
       "      <th>...</th>\n",
       "      <th>str2</th>\n",
       "      <th>strat</th>\n",
       "      <th>symptom</th>\n",
       "      <th>treat</th>\n",
       "      <th>offtrt</th>\n",
       "      <th>cd40</th>\n",
       "      <th>cd420</th>\n",
       "      <th>cd80</th>\n",
       "      <th>cd820</th>\n",
       "      <th>infected</th>\n",
       "    </tr>\n",
       "  </thead>\n",
       "  <tbody>\n",
       "    <tr>\n",
       "      <th>0</th>\n",
       "      <td>948</td>\n",
       "      <td>2</td>\n",
       "      <td>48</td>\n",
       "      <td>89.8128</td>\n",
       "      <td>0</td>\n",
       "      <td>0</td>\n",
       "      <td>0</td>\n",
       "      <td>100</td>\n",
       "      <td>0</td>\n",
       "      <td>0</td>\n",
       "      <td>...</td>\n",
       "      <td>0</td>\n",
       "      <td>1</td>\n",
       "      <td>0</td>\n",
       "      <td>1</td>\n",
       "      <td>0</td>\n",
       "      <td>422</td>\n",
       "      <td>477</td>\n",
       "      <td>566</td>\n",
       "      <td>324</td>\n",
       "      <td>0</td>\n",
       "    </tr>\n",
       "    <tr>\n",
       "      <th>1</th>\n",
       "      <td>1002</td>\n",
       "      <td>3</td>\n",
       "      <td>61</td>\n",
       "      <td>49.4424</td>\n",
       "      <td>0</td>\n",
       "      <td>0</td>\n",
       "      <td>0</td>\n",
       "      <td>90</td>\n",
       "      <td>0</td>\n",
       "      <td>1</td>\n",
       "      <td>...</td>\n",
       "      <td>1</td>\n",
       "      <td>3</td>\n",
       "      <td>0</td>\n",
       "      <td>1</td>\n",
       "      <td>0</td>\n",
       "      <td>162</td>\n",
       "      <td>218</td>\n",
       "      <td>392</td>\n",
       "      <td>564</td>\n",
       "      <td>1</td>\n",
       "    </tr>\n",
       "    <tr>\n",
       "      <th>2</th>\n",
       "      <td>961</td>\n",
       "      <td>3</td>\n",
       "      <td>45</td>\n",
       "      <td>88.4520</td>\n",
       "      <td>0</td>\n",
       "      <td>1</td>\n",
       "      <td>1</td>\n",
       "      <td>90</td>\n",
       "      <td>0</td>\n",
       "      <td>1</td>\n",
       "      <td>...</td>\n",
       "      <td>1</td>\n",
       "      <td>3</td>\n",
       "      <td>0</td>\n",
       "      <td>1</td>\n",
       "      <td>1</td>\n",
       "      <td>326</td>\n",
       "      <td>274</td>\n",
       "      <td>2063</td>\n",
       "      <td>1893</td>\n",
       "      <td>0</td>\n",
       "    </tr>\n",
       "    <tr>\n",
       "      <th>3</th>\n",
       "      <td>1166</td>\n",
       "      <td>3</td>\n",
       "      <td>47</td>\n",
       "      <td>85.2768</td>\n",
       "      <td>0</td>\n",
       "      <td>1</td>\n",
       "      <td>0</td>\n",
       "      <td>100</td>\n",
       "      <td>0</td>\n",
       "      <td>1</td>\n",
       "      <td>...</td>\n",
       "      <td>1</td>\n",
       "      <td>3</td>\n",
       "      <td>0</td>\n",
       "      <td>1</td>\n",
       "      <td>0</td>\n",
       "      <td>287</td>\n",
       "      <td>394</td>\n",
       "      <td>1590</td>\n",
       "      <td>966</td>\n",
       "      <td>0</td>\n",
       "    </tr>\n",
       "    <tr>\n",
       "      <th>4</th>\n",
       "      <td>1090</td>\n",
       "      <td>0</td>\n",
       "      <td>43</td>\n",
       "      <td>66.6792</td>\n",
       "      <td>0</td>\n",
       "      <td>1</td>\n",
       "      <td>0</td>\n",
       "      <td>100</td>\n",
       "      <td>0</td>\n",
       "      <td>1</td>\n",
       "      <td>...</td>\n",
       "      <td>1</td>\n",
       "      <td>3</td>\n",
       "      <td>0</td>\n",
       "      <td>0</td>\n",
       "      <td>0</td>\n",
       "      <td>504</td>\n",
       "      <td>353</td>\n",
       "      <td>870</td>\n",
       "      <td>782</td>\n",
       "      <td>0</td>\n",
       "    </tr>\n",
       "  </tbody>\n",
       "</table>\n",
       "<p>5 rows × 23 columns</p>\n",
       "</div>"
      ],
      "text/plain": [
       "   time  trt  age     wtkg  hemo  homo  drugs  karnof  oprior  z30  ...  str2  \\\n",
       "0   948    2   48  89.8128     0     0      0     100       0    0  ...     0   \n",
       "1  1002    3   61  49.4424     0     0      0      90       0    1  ...     1   \n",
       "2   961    3   45  88.4520     0     1      1      90       0    1  ...     1   \n",
       "3  1166    3   47  85.2768     0     1      0     100       0    1  ...     1   \n",
       "4  1090    0   43  66.6792     0     1      0     100       0    1  ...     1   \n",
       "\n",
       "   strat  symptom  treat  offtrt  cd40  cd420  cd80  cd820  infected  \n",
       "0      1        0      1       0   422    477   566    324         0  \n",
       "1      3        0      1       0   162    218   392    564         1  \n",
       "2      3        0      1       1   326    274  2063   1893         0  \n",
       "3      3        0      1       0   287    394  1590    966         0  \n",
       "4      3        0      0       0   504    353   870    782         0  \n",
       "\n",
       "[5 rows x 23 columns]"
      ]
     },
     "execution_count": 10,
     "metadata": {},
     "output_type": "execute_result"
    }
   ],
   "source": [
    "df = pd.read_csv('data/AIDS_Classification.csv')\n",
    "df.head()"
   ]
  },
  {
   "cell_type": "code",
   "execution_count": 11,
   "metadata": {},
   "outputs": [],
   "source": [
    "features, target = df.drop(columns=['infected']), df['infected']\n",
    "\n",
    "train_features, test_features, train_target, test_target = train_test_split(features, target, random_state=42)\n",
    "\n",
    "num_features = features.select_dtypes(include=[np.number]).columns  # Численные признаки\n",
    "cat_cols = features.select_dtypes(exclude=[np.number]).columns  # Категориальные признаки\n",
    "\n",
    "le = OrdinalEncoder(handle_unknown='use_encoded_value',\n",
    "                    unknown_value=99)\n",
    "\n",
    "train_features[cat_cols] = le.fit_transform(train_features[cat_cols])\n",
    "test_features[cat_cols] = le.transform(test_features[cat_cols])\n",
    "\n",
    "most_frequent_imputer = SimpleImputer(strategy='most_frequent') \n",
    "train_features = pd.DataFrame(most_frequent_imputer.fit_transform(train_features), columns=train_features.columns)\n",
    "test_features = pd.DataFrame(most_frequent_imputer.transform(test_features), columns=test_features.columns)"
   ]
  },
  {
   "cell_type": "markdown",
   "metadata": {},
   "source": [
    "#### 2. Построение бейзлайна "
   ]
  },
  {
   "cell_type": "code",
   "execution_count": 12,
   "metadata": {},
   "outputs": [
    {
     "name": "stdout",
     "output_type": "stream",
     "text": [
      "| Metric    |     Mean |   Std Dev |\n",
      "|:----------|---------:|----------:|\n",
      "| Accuracy  | 0.858487 | 0.0241342 |\n",
      "| Precision | 0.852902 | 0.0252986 |\n",
      "| Recall    | 0.858487 | 0.0241342 |\n",
      "| F1-score  | 0.85162  | 0.025912  |\n",
      "\n",
      "=== Результаты на Тесте ===\n",
      "1. Accuracy: 85.23%\n",
      "2. Precision: 84.58%\n",
      "3. Recall: 85.23%\n",
      "4. F1-score: 84.33%\n"
     ]
    }
   ],
   "source": [
    "metrics = classification_cross_validate(LogisticRegression, train_features.to_numpy(), train_target.to_numpy(), n_folds=5, max_iter=1000)\n",
    "display_metrics_classification_table(*metrics)\n",
    "\n",
    "linear_model = LogisticRegression(max_iter=1000)  # Выбираем количество соседей\n",
    "linear_model.fit(train_features, train_target)\n",
    "\n",
    "y_pred = linear_model.predict(test_features)\n",
    "\n",
    "accuracy = accuracy_score(test_target, y_pred)\n",
    "precision = precision_score(test_target, y_pred, average='weighted')\n",
    "recall = recall_score(test_target, y_pred, average='weighted')\n",
    "f1 = f1_score(test_target, y_pred, average='weighted')\n",
    "\n",
    "# Выводим результаты\n",
    "print(\"\\n=== Результаты на Тесте ===\")\n",
    "print(f\"1. Accuracy: {accuracy:.2%}\")\n",
    "print(f\"2. Precision: {precision:.2%}\")\n",
    "print(f\"3. Recall: {recall:.2%}\")\n",
    "print(f\"4. F1-score: {f1:.2%}\")"
   ]
  },
  {
   "cell_type": "markdown",
   "metadata": {},
   "source": [
    "#### 3. Формулировка гипотез"
   ]
  },
  {
   "cell_type": "markdown",
   "metadata": {},
   "source": [
    "Сформулируем несколько гипотез, которые могут помочь улучшить качество модели\n",
    "\n",
    "1) Поменять Encoder категориальных признаков с `LabelEncoder` на `OneHotEncoder`\n",
    "2) Отмасштабировать численные признаки\n",
    "3) Добавить регуляризацию"
   ]
  },
  {
   "cell_type": "code",
   "execution_count": 13,
   "metadata": {},
   "outputs": [],
   "source": [
    "onehot = OneHotEncoder(sparse_output=False, drop='first', handle_unknown='ignore')\n",
    "\n",
    "encoded_train_data = onehot.fit_transform(train_features[cat_cols])\n",
    "encoded_test_data = onehot.transform(test_features[cat_cols])\n",
    "\n",
    "encoded_df = pd.DataFrame(encoded_train_data, columns=onehot.get_feature_names_out(cat_cols))\n",
    "X_train_upd = train_features.drop(columns=cat_cols).reset_index(drop=True)\n",
    "X_train_upd = pd.concat([X_train_upd, encoded_df], axis=1)\n",
    "\n",
    "encoded_df = pd.DataFrame(encoded_test_data, columns=onehot.get_feature_names_out(cat_cols))\n",
    "X_test_upd = test_features.drop(columns=cat_cols).reset_index(drop=True)\n",
    "X_test_upd = pd.concat([X_test_upd, encoded_df], axis=1)\n",
    "\n",
    "\n",
    "scaler = StandardScaler()\n",
    "X_train_upd[num_features] = scaler.fit_transform(train_features[num_features])\n",
    "X_test_upd[num_features] = scaler.transform(test_features[num_features])"
   ]
  },
  {
   "cell_type": "code",
   "execution_count": 14,
   "metadata": {},
   "outputs": [
    {
     "name": "stdout",
     "output_type": "stream",
     "text": [
      "| Metric    |     Mean |   Std Dev |\n",
      "|:----------|---------:|----------:|\n",
      "| Accuracy  | 0.869706 | 0.0211347 |\n",
      "| Precision | 0.865467 | 0.0220093 |\n",
      "| Recall    | 0.869706 | 0.0211347 |\n",
      "| F1-score  | 0.864696 | 0.021546  |\n",
      "\n",
      "=== Результаты на Тесте ===\n",
      "1. Accuracy: 86.17%\n",
      "2. Precision: 85.68%\n",
      "3. Recall: 86.17%\n",
      "4. F1-score: 85.29%\n"
     ]
    }
   ],
   "source": [
    "metrics = classification_cross_validate(LogisticRegression, X_train_upd.to_numpy(), train_target.to_numpy(), n_folds=5, C=6, max_iter=1000)\n",
    "display_metrics_classification_table(*metrics)\n",
    "\n",
    "linear_model = LogisticRegression(C=6, max_iter=1000)  \n",
    "linear_model.fit(X_train_upd, train_target)\n",
    "\n",
    "y_pred = linear_model.predict(X_test_upd)\n",
    "\n",
    "accuracy = accuracy_score(test_target, y_pred)\n",
    "precision = precision_score(test_target, y_pred, average='weighted')\n",
    "recall = recall_score(test_target, y_pred, average='weighted')\n",
    "f1 = f1_score(test_target, y_pred, average='weighted')\n",
    "\n",
    "# Выводим результаты\n",
    "print(\"\\n=== Результаты на Тесте ===\")\n",
    "print(f\"1. Accuracy: {accuracy:.2%}\")\n",
    "print(f\"2. Precision: {precision:.2%}\")\n",
    "print(f\"3. Recall: {recall:.2%}\")\n",
    "print(f\"4. F1-score: {f1:.2%}\")"
   ]
  },
  {
   "cell_type": "markdown",
   "metadata": {},
   "source": [
    "Можно увидеть что в среднем значения метрик улучшились. \n",
    "Результаты на тестовой выборке также показывают приросты."
   ]
  },
  {
   "cell_type": "markdown",
   "metadata": {},
   "source": [
    "#### 4. Реализация своего класса"
   ]
  },
  {
   "cell_type": "code",
   "execution_count": 15,
   "metadata": {},
   "outputs": [],
   "source": [
    "class MyLogisticRegression:\n",
    "    def __init__(self, C=0, learning_rate=0.01, n_iterations=1000):\n",
    "        self.C = C\n",
    "        self.learning_rate = learning_rate\n",
    "        self.n_iterations = n_iterations\n",
    "        self.weights = None\n",
    "        self.bias = None\n",
    "\n",
    "    def sigmoid(self, z):\n",
    "        return 1 / (1 + np.exp(-z))\n",
    "\n",
    "    def fit(self, features, target):\n",
    "        n_samples, n_features = features.shape\n",
    "        self.weights = np.zeros(n_features)\n",
    "        self.bias = 0\n",
    "\n",
    "        for _ in range(self.n_iterations):\n",
    "            linear_model = np.dot(features, self.weights) + self.bias\n",
    "            predictions = self.sigmoid(linear_model)\n",
    "            if self.C != 0:\n",
    "                dw = (1 / n_samples) * np.dot(features.T, (predictions - target)) + (1 / (self.C * n_samples)) * self.weights\n",
    "            else:\n",
    "                dw = (1 / n_samples) * np.dot(features.T, (predictions - target))\n",
    "            db = (1 / n_samples) * np.sum(predictions - target)\n",
    "\n",
    "            self.weights -= self.learning_rate * dw\n",
    "            self.bias -= self.learning_rate * db\n",
    "\n",
    "    def predict(self, features):\n",
    "        linear_model = np.dot(features, self.weights) + self.bias\n",
    "        predictions = self.sigmoid(linear_model)\n",
    "        return np.where(predictions >= 0.5, 1, 0)"
   ]
  },
  {
   "cell_type": "code",
   "execution_count": 16,
   "metadata": {},
   "outputs": [
    {
     "name": "stdout",
     "output_type": "stream",
     "text": [
      "| Metric    |     Mean |   Std Dev |\n",
      "|:----------|---------:|----------:|\n",
      "| Accuracy  | 0.745676 | 0.0888301 |\n",
      "| Precision | 0.796077 | 0.039282  |\n",
      "| Recall    | 0.745676 | 0.0888301 |\n",
      "| F1-score  | 0.74322  | 0.0791728 |\n",
      "\n",
      "=== Результаты на Тесте ===\n",
      "1. Accuracy: 81.68%\n",
      "2. Precision: 83.42%\n",
      "3. Recall: 81.68%\n",
      "4. F1-score: 82.28%\n"
     ]
    }
   ],
   "source": [
    "metrics = classification_cross_validate(MyLogisticRegression, train_features.to_numpy(), train_target.to_numpy(), n_folds=5, n_iterations=1000)\n",
    "display_metrics_classification_table(*metrics)\n",
    "\n",
    "linear_model = MyLogisticRegression(n_iterations=1000)\n",
    "linear_model.fit(train_features, train_target)\n",
    "\n",
    "y_pred = linear_model.predict(test_features)\n",
    "\n",
    "accuracy = accuracy_score(test_target, y_pred)\n",
    "precision = precision_score(test_target, y_pred, average='weighted')\n",
    "recall = recall_score(test_target, y_pred, average='weighted')\n",
    "f1 = f1_score(test_target, y_pred, average='weighted')\n",
    "\n",
    "# Выводим результаты\n",
    "print(\"\\n=== Результаты на Тесте ===\")\n",
    "print(f\"1. Accuracy: {accuracy:.2%}\")\n",
    "print(f\"2. Precision: {precision:.2%}\")\n",
    "print(f\"3. Recall: {recall:.2%}\")\n",
    "print(f\"4. F1-score: {f1:.2%}\")"
   ]
  },
  {
   "cell_type": "code",
   "execution_count": 17,
   "metadata": {},
   "outputs": [
    {
     "name": "stdout",
     "output_type": "stream",
     "text": [
      "| Metric    |     Mean |   Std Dev |\n",
      "|:----------|---------:|----------:|\n",
      "| Accuracy  | 0.853495 | 0.0175925 |\n",
      "| Precision | 0.847363 | 0.0176393 |\n",
      "| Recall    | 0.853495 | 0.0175925 |\n",
      "| F1-score  | 0.847003 | 0.017704  |\n",
      "\n",
      "=== Результаты на Тесте ===\n",
      "1. Accuracy: 85.05%\n",
      "2. Precision: 84.35%\n",
      "3. Recall: 85.05%\n",
      "4. F1-score: 84.22%\n"
     ]
    }
   ],
   "source": [
    "metrics = classification_cross_validate(MyLogisticRegression, X_train_upd.to_numpy(), train_target.to_numpy(), n_folds=5, C=6, n_iterations=1000)\n",
    "display_metrics_classification_table(*metrics)\n",
    "\n",
    "linear_model = MyLogisticRegression(C=6, n_iterations=1000)  \n",
    "linear_model.fit(X_train_upd, train_target)\n",
    "\n",
    "y_pred = linear_model.predict(X_test_upd)\n",
    "\n",
    "accuracy = accuracy_score(test_target, y_pred)\n",
    "precision = precision_score(test_target, y_pred, average='weighted')\n",
    "recall = recall_score(test_target, y_pred, average='weighted')\n",
    "f1 = f1_score(test_target, y_pred, average='weighted')\n",
    "\n",
    "# Выводим результаты\n",
    "print(\"\\n=== Результаты на Тесте ===\")\n",
    "print(f\"1. Accuracy: {accuracy:.2%}\")\n",
    "print(f\"2. Precision: {precision:.2%}\")\n",
    "print(f\"3. Recall: {recall:.2%}\")\n",
    "print(f\"4. F1-score: {f1:.2%}\")"
   ]
  },
  {
   "cell_type": "markdown",
   "metadata": {},
   "source": [
    "Результаты показывают, что собственная реализация модели в среднем такой же по качеству что и модели из `sklearn`, однако демонстрирует приросты при использовании улучшенного бейзлайна."
   ]
  },
  {
   "cell_type": "markdown",
   "metadata": {},
   "source": [
    "### Заключение"
   ]
  },
  {
   "cell_type": "markdown",
   "metadata": {},
   "source": [
    "Внесённые изменения, включая нормализацию данных и добавление регуляризации в алгоритм, улучшают точность модели. Проведённые эксперименты демонстрируют, что как собственная реализация, так и применение моделей из sklearn, дают схожие результаты."
   ]
  },
  {
   "cell_type": "markdown",
   "metadata": {},
   "source": [
    "| Модель                    |      MSE  |        MAE |      $R^2$ |\n",
    "|:--------------------------|----------:|-----------:|-----------:|\n",
    "| Sklearn (до улучшения)    | 130868.65  | 264.34   |  0.73      |\n",
    "| Sklearn (после улучшения) | 65975.97  | 185.85   |  0.86      |\n",
    "| Собственная имплементация (до улучшения)   | 130868.65   | 264.34    |  0.73      |\n",
    "| Собственная имплементация (после улучшения)| 85822.38  | 199.01    |  0.82      |"
   ]
  },
  {
   "cell_type": "markdown",
   "metadata": {},
   "source": [
    "| Модель                    |  Accuracy |  Precision |     Recall |    F1-score |\n",
    "|:--------------------------|----------:|-----------:|-----------:|-----------:|\n",
    "| Sklearn (до улучшения)    |   85.23%  |   84.58%   |  85.23%    |  84.33%    |\n",
    "| Sklearn (после улучшения) |   86.17%  |   85.68%   |  86.17%    |  85.29%    |\n",
    "| Собственная имплементация (до улучшения)   |   81.68%  |   83.42%   |  81.68%    |  82.28%    |\n",
    "| Собственная имплементация (после улучшения)|   85.05%  |   84.35%   |  85.05%    |  84.22%    |"
   ]
  }
 ],
 "metadata": {
  "kernelspec": {
   "display_name": "labs",
   "language": "python",
   "name": "python3"
  },
  "language_info": {
   "codemirror_mode": {
    "name": "ipython",
    "version": 3
   },
   "file_extension": ".py",
   "mimetype": "text/x-python",
   "name": "python",
   "nbconvert_exporter": "python",
   "pygments_lexer": "ipython3",
   "version": "3.9.19"
  }
 },
 "nbformat": 4,
 "nbformat_minor": 2
}
