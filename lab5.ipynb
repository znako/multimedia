{
 "cells": [
  {
   "cell_type": "markdown",
   "metadata": {},
   "source": [
    "# Лабораторная работа 5 (Gradient Boosting)"
   ]
  },
  {
   "cell_type": "code",
   "execution_count": 1,
   "metadata": {},
   "outputs": [],
   "source": [
    "import pandas as pd\n",
    "import matplotlib.pyplot as plt\n",
    "import numpy as np\n",
    "from sklearn.model_selection import train_test_split\n",
    "from sklearn.impute import SimpleImputer\n",
    "from sklearn.preprocessing import LabelEncoder, StandardScaler, OneHotEncoder, OrdinalEncoder\n",
    "from sklearn.metrics import mean_absolute_error, mean_squared_error, r2_score, accuracy_score, precision_score, recall_score, f1_score\n",
    "from sklearn.ensemble import GradientBoostingRegressor, GradientBoostingClassifier\n",
    "from sklearn.tree import DecisionTreeRegressor, DecisionTreeClassifier\n",
    "from utils import regression_cross_validate, display_metrics_table, classification_cross_validate, display_metrics_classification_table\n",
    "import warnings\n",
    "warnings.filterwarnings(\"ignore\")"
   ]
  },
  {
   "cell_type": "markdown",
   "metadata": {},
   "source": [
    "### Regression"
   ]
  },
  {
   "cell_type": "markdown",
   "metadata": {},
   "source": [
    "#### 1. Обработка данных"
   ]
  },
  {
   "cell_type": "code",
   "execution_count": 2,
   "metadata": {},
   "outputs": [
    {
     "data": {
      "text/html": [
       "<div>\n",
       "<style scoped>\n",
       "    .dataframe tbody tr th:only-of-type {\n",
       "        vertical-align: middle;\n",
       "    }\n",
       "\n",
       "    .dataframe tbody tr th {\n",
       "        vertical-align: top;\n",
       "    }\n",
       "\n",
       "    .dataframe thead th {\n",
       "        text-align: right;\n",
       "    }\n",
       "</style>\n",
       "<table border=\"1\" class=\"dataframe\">\n",
       "  <thead>\n",
       "    <tr style=\"text-align: right;\">\n",
       "      <th></th>\n",
       "      <th>Company</th>\n",
       "      <th>Product</th>\n",
       "      <th>TypeName</th>\n",
       "      <th>Inches</th>\n",
       "      <th>Ram</th>\n",
       "      <th>OS</th>\n",
       "      <th>Weight</th>\n",
       "      <th>Price_euros</th>\n",
       "      <th>Screen</th>\n",
       "      <th>ScreenW</th>\n",
       "      <th>...</th>\n",
       "      <th>RetinaDisplay</th>\n",
       "      <th>CPU_company</th>\n",
       "      <th>CPU_freq</th>\n",
       "      <th>CPU_model</th>\n",
       "      <th>PrimaryStorage</th>\n",
       "      <th>SecondaryStorage</th>\n",
       "      <th>PrimaryStorageType</th>\n",
       "      <th>SecondaryStorageType</th>\n",
       "      <th>GPU_company</th>\n",
       "      <th>GPU_model</th>\n",
       "    </tr>\n",
       "  </thead>\n",
       "  <tbody>\n",
       "    <tr>\n",
       "      <th>0</th>\n",
       "      <td>Apple</td>\n",
       "      <td>MacBook Pro</td>\n",
       "      <td>Ultrabook</td>\n",
       "      <td>13.3</td>\n",
       "      <td>8</td>\n",
       "      <td>macOS</td>\n",
       "      <td>1.37</td>\n",
       "      <td>1339.69</td>\n",
       "      <td>Standard</td>\n",
       "      <td>2560</td>\n",
       "      <td>...</td>\n",
       "      <td>Yes</td>\n",
       "      <td>Intel</td>\n",
       "      <td>2.3</td>\n",
       "      <td>Core i5</td>\n",
       "      <td>128</td>\n",
       "      <td>0</td>\n",
       "      <td>SSD</td>\n",
       "      <td>No</td>\n",
       "      <td>Intel</td>\n",
       "      <td>Iris Plus Graphics 640</td>\n",
       "    </tr>\n",
       "    <tr>\n",
       "      <th>1</th>\n",
       "      <td>Apple</td>\n",
       "      <td>Macbook Air</td>\n",
       "      <td>Ultrabook</td>\n",
       "      <td>13.3</td>\n",
       "      <td>8</td>\n",
       "      <td>macOS</td>\n",
       "      <td>1.34</td>\n",
       "      <td>898.94</td>\n",
       "      <td>Standard</td>\n",
       "      <td>1440</td>\n",
       "      <td>...</td>\n",
       "      <td>No</td>\n",
       "      <td>Intel</td>\n",
       "      <td>1.8</td>\n",
       "      <td>Core i5</td>\n",
       "      <td>128</td>\n",
       "      <td>0</td>\n",
       "      <td>Flash Storage</td>\n",
       "      <td>No</td>\n",
       "      <td>Intel</td>\n",
       "      <td>HD Graphics 6000</td>\n",
       "    </tr>\n",
       "    <tr>\n",
       "      <th>2</th>\n",
       "      <td>HP</td>\n",
       "      <td>250 G6</td>\n",
       "      <td>Notebook</td>\n",
       "      <td>15.6</td>\n",
       "      <td>8</td>\n",
       "      <td>No OS</td>\n",
       "      <td>1.86</td>\n",
       "      <td>575.00</td>\n",
       "      <td>Full HD</td>\n",
       "      <td>1920</td>\n",
       "      <td>...</td>\n",
       "      <td>No</td>\n",
       "      <td>Intel</td>\n",
       "      <td>2.5</td>\n",
       "      <td>Core i5 7200U</td>\n",
       "      <td>256</td>\n",
       "      <td>0</td>\n",
       "      <td>SSD</td>\n",
       "      <td>No</td>\n",
       "      <td>Intel</td>\n",
       "      <td>HD Graphics 620</td>\n",
       "    </tr>\n",
       "    <tr>\n",
       "      <th>3</th>\n",
       "      <td>Apple</td>\n",
       "      <td>MacBook Pro</td>\n",
       "      <td>Ultrabook</td>\n",
       "      <td>15.4</td>\n",
       "      <td>16</td>\n",
       "      <td>macOS</td>\n",
       "      <td>1.83</td>\n",
       "      <td>2537.45</td>\n",
       "      <td>Standard</td>\n",
       "      <td>2880</td>\n",
       "      <td>...</td>\n",
       "      <td>Yes</td>\n",
       "      <td>Intel</td>\n",
       "      <td>2.7</td>\n",
       "      <td>Core i7</td>\n",
       "      <td>512</td>\n",
       "      <td>0</td>\n",
       "      <td>SSD</td>\n",
       "      <td>No</td>\n",
       "      <td>AMD</td>\n",
       "      <td>Radeon Pro 455</td>\n",
       "    </tr>\n",
       "    <tr>\n",
       "      <th>4</th>\n",
       "      <td>Apple</td>\n",
       "      <td>MacBook Pro</td>\n",
       "      <td>Ultrabook</td>\n",
       "      <td>13.3</td>\n",
       "      <td>8</td>\n",
       "      <td>macOS</td>\n",
       "      <td>1.37</td>\n",
       "      <td>1803.60</td>\n",
       "      <td>Standard</td>\n",
       "      <td>2560</td>\n",
       "      <td>...</td>\n",
       "      <td>Yes</td>\n",
       "      <td>Intel</td>\n",
       "      <td>3.1</td>\n",
       "      <td>Core i5</td>\n",
       "      <td>256</td>\n",
       "      <td>0</td>\n",
       "      <td>SSD</td>\n",
       "      <td>No</td>\n",
       "      <td>Intel</td>\n",
       "      <td>Iris Plus Graphics 650</td>\n",
       "    </tr>\n",
       "  </tbody>\n",
       "</table>\n",
       "<p>5 rows × 23 columns</p>\n",
       "</div>"
      ],
      "text/plain": [
       "  Company      Product   TypeName  Inches  Ram     OS  Weight  Price_euros  \\\n",
       "0   Apple  MacBook Pro  Ultrabook    13.3    8  macOS    1.37      1339.69   \n",
       "1   Apple  Macbook Air  Ultrabook    13.3    8  macOS    1.34       898.94   \n",
       "2      HP       250 G6   Notebook    15.6    8  No OS    1.86       575.00   \n",
       "3   Apple  MacBook Pro  Ultrabook    15.4   16  macOS    1.83      2537.45   \n",
       "4   Apple  MacBook Pro  Ultrabook    13.3    8  macOS    1.37      1803.60   \n",
       "\n",
       "     Screen  ScreenW  ...  RetinaDisplay CPU_company CPU_freq      CPU_model  \\\n",
       "0  Standard     2560  ...            Yes       Intel      2.3        Core i5   \n",
       "1  Standard     1440  ...             No       Intel      1.8        Core i5   \n",
       "2   Full HD     1920  ...             No       Intel      2.5  Core i5 7200U   \n",
       "3  Standard     2880  ...            Yes       Intel      2.7        Core i7   \n",
       "4  Standard     2560  ...            Yes       Intel      3.1        Core i5   \n",
       "\n",
       "  PrimaryStorage  SecondaryStorage PrimaryStorageType  SecondaryStorageType  \\\n",
       "0            128                 0                SSD                    No   \n",
       "1            128                 0      Flash Storage                    No   \n",
       "2            256                 0                SSD                    No   \n",
       "3            512                 0                SSD                    No   \n",
       "4            256                 0                SSD                    No   \n",
       "\n",
       "   GPU_company               GPU_model  \n",
       "0        Intel  Iris Plus Graphics 640  \n",
       "1        Intel        HD Graphics 6000  \n",
       "2        Intel         HD Graphics 620  \n",
       "3          AMD          Radeon Pro 455  \n",
       "4        Intel  Iris Plus Graphics 650  \n",
       "\n",
       "[5 rows x 23 columns]"
      ]
     },
     "execution_count": 2,
     "metadata": {},
     "output_type": "execute_result"
    }
   ],
   "source": [
    "df = pd.read_csv('data/laptop_prices.csv')\n",
    "df.head()"
   ]
  },
  {
   "cell_type": "code",
   "execution_count": 3,
   "metadata": {},
   "outputs": [],
   "source": [
    "features, target = df.drop(columns=['Price_euros']), df['Price_euros']\n",
    "\n",
    "numerical_features = features.select_dtypes(include=[np.number]).columns  # Численные признаки\n",
    "categorical_features = features.select_dtypes(exclude=[np.number]).columns  # Категориальные признаки\n",
    "\n",
    "train_features, test_features, train_target, test_target = train_test_split(features, target, random_state=42)\n",
    "\n",
    "le = OrdinalEncoder(handle_unknown='use_encoded_value',\n",
    "                    unknown_value=-1)\n",
    "\n",
    "train_features[categorical_features] = le.fit_transform(train_features[categorical_features])\n",
    "test_features[categorical_features] = le.transform(test_features[categorical_features])\n",
    "\n",
    "imputer = SimpleImputer(strategy='most_frequent') \n",
    "train_features = pd.DataFrame(imputer.fit_transform(train_features), columns=train_features.columns)\n",
    "test_features = pd.DataFrame(imputer.transform(test_features), columns=test_features.columns)"
   ]
  },
  {
   "cell_type": "markdown",
   "metadata": {},
   "source": [
    "#### 2. Построение бейзлайна"
   ]
  },
  {
   "cell_type": "code",
   "execution_count": 4,
   "metadata": {},
   "outputs": [
    {
     "name": "stdout",
     "output_type": "stream",
     "text": [
      "| Metric   |        Mean |       Std Dev |\n",
      "|:---------|------------:|--------------:|\n",
      "| MAE      |   186.816   |    12.5959    |\n",
      "| MSE      | 94982.7     | 23122.7       |\n",
      "| R2       |     0.80653 |     0.0433616 |\n",
      "\n",
      "=== Результаты на Тесте ===\n",
      "Среднеквадратичная ошибка (MSE): 126493.13\n",
      "Средняя абсолютная ошибка (MAE): 219.29\n",
      "Коэффициент детерминации (R^2): 0.74\n"
     ]
    }
   ],
   "source": [
    "metrics = regression_cross_validate(GradientBoostingRegressor, train_features.to_numpy(), train_target.to_numpy(), n_folds=5, random_state=42, n_estimators=50, max_depth=10)\n",
    "display_metrics_table(*metrics)\n",
    "\n",
    "gb = GradientBoostingRegressor(n_estimators=50, max_depth=10, random_state=42)\n",
    "gb.fit(train_features, train_target)\n",
    "\n",
    "predicted_target = gb.predict(test_features)\n",
    "\n",
    "# Метрики\n",
    "mse = mean_squared_error(test_target, predicted_target)\n",
    "mae = mean_absolute_error(test_target, predicted_target)\n",
    "r2 = r2_score(test_target, predicted_target)\n",
    "\n",
    "# Вывод метрик\n",
    "print(\"\\n=== Результаты на Тесте ===\")\n",
    "print(f\"Среднеквадратичная ошибка (MSE): {mse:.2f}\")\n",
    "print(f\"Средняя абсолютная ошибка (MAE): {mae:.2f}\")\n",
    "print(f\"Коэффициент детерминации (R^2): {r2:.2f}\")\n"
   ]
  },
  {
   "cell_type": "markdown",
   "metadata": {},
   "source": [
    "Как можем увидеть значение метрики $R^2$ около 0.74, что означает что около 74% дисперсии данных объясняется моделью."
   ]
  },
  {
   "cell_type": "markdown",
   "metadata": {},
   "source": [
    "#### 3. Формулировка гипотез"
   ]
  },
  {
   "cell_type": "markdown",
   "metadata": {},
   "source": [
    "Сформулируем несколько гипотез, которые могут помочь улучшить качество модели\n",
    "\n",
    "1) Поменять Encoder категориальных признаков с `LabelEncoder` на `OneHotEncoder`\n",
    "2) Отмасштабировать численные признаки\n",
    "3) Уменьшить глубину и  увеличить число деревьев\n"
   ]
  },
  {
   "cell_type": "code",
   "execution_count": 5,
   "metadata": {},
   "outputs": [],
   "source": [
    "onehot = OneHotEncoder(sparse_output=False, drop='first', handle_unknown='ignore')\n",
    "\n",
    "encoded_train_data = onehot.fit_transform(train_features[categorical_features])\n",
    "encoded_test_data = onehot.transform(test_features[categorical_features])\n",
    "\n",
    "encoded_df = pd.DataFrame(encoded_train_data, columns=onehot.get_feature_names_out(categorical_features))\n",
    "updated_train_features = train_features.drop(columns=categorical_features).reset_index(drop=True)\n",
    "updated_train_features = pd.concat([updated_train_features, encoded_df], axis=1)\n",
    "\n",
    "encoded_df = pd.DataFrame(encoded_test_data, columns=onehot.get_feature_names_out(categorical_features))\n",
    "updated_test_features = test_features.drop(columns=categorical_features).reset_index(drop=True)\n",
    "updated_test_features = pd.concat([updated_test_features, encoded_df], axis=1)\n",
    "\n",
    "scaler = StandardScaler()\n",
    "updated_train_features[numerical_features] = scaler.fit_transform(train_features[numerical_features])\n",
    "updated_test_features[numerical_features] = scaler.transform(test_features[numerical_features])"
   ]
  },
  {
   "cell_type": "code",
   "execution_count": 6,
   "metadata": {},
   "outputs": [
    {
     "name": "stdout",
     "output_type": "stream",
     "text": [
      "| Metric   |         Mean |       Std Dev |\n",
      "|:---------|-------------:|--------------:|\n",
      "| MAE      |   198.144    |    10.3365    |\n",
      "| MSE      | 92486.7      | 15711.6       |\n",
      "| R2       |     0.810411 |     0.0362914 |\n",
      "\n",
      "=== Результаты на Тесте ===\n",
      "Среднеквадратичная ошибка (MSE): 63201.39\n",
      "Средняя абсолютная ошибка (MAE): 193.60\n",
      "Коэффициент детерминации (R^2): 0.87\n"
     ]
    }
   ],
   "source": [
    "metrics = regression_cross_validate(GradientBoostingRegressor, updated_train_features.to_numpy(), train_target.to_numpy(), n_folds=5, random_state=42, n_estimators=100, max_depth=3)\n",
    "display_metrics_table(*metrics)\n",
    "\n",
    "gb = GradientBoostingRegressor(n_estimators=100, max_depth=3, random_state=42)\n",
    "gb.fit(updated_train_features, train_target)\n",
    "\n",
    "predicted_target = gb.predict(updated_test_features)\n",
    "\n",
    "# Метрики\n",
    "mse = mean_squared_error(test_target, predicted_target)\n",
    "mae = mean_absolute_error(test_target, predicted_target)\n",
    "r2 = r2_score(test_target, predicted_target)\n",
    "\n",
    "# Вывод метрик\n",
    "print(\"\\n=== Результаты на Тесте ===\")\n",
    "print(f\"Среднеквадратичная ошибка (MSE): {mse:.2f}\")\n",
    "print(f\"Средняя абсолютная ошибка (MAE): {mae:.2f}\")\n",
    "print(f\"Коэффициент детерминации (R^2): {r2:.2f}\")"
   ]
  },
  {
   "cell_type": "markdown",
   "metadata": {},
   "source": [
    "Можно заметить, что в среднем показатели метрик значительно улучшились по сравнению с предыдущими результатами. Анализ результатов на тестовой выборке также демонстрирует существенные улучшения, что подтверждает эффективность проведённых модификаций."
   ]
  },
  {
   "cell_type": "markdown",
   "metadata": {},
   "source": [
    "#### 4. Реализация своего класса"
   ]
  },
  {
   "cell_type": "code",
   "execution_count": 7,
   "metadata": {},
   "outputs": [],
   "source": [
    "class MyGradientBoostingRegressor:\n",
    "    def __init__(self, n_estimators=100, learning_rate=0.05, max_depth=3):\n",
    "        self.n_estimators = n_estimators\n",
    "        self.learning_rate = learning_rate\n",
    "        self.max_depth = max_depth\n",
    "        self.trees = []\n",
    "        self.initial_value = None\n",
    "\n",
    "    def fit(self, features, target):\n",
    "        # Initialize model with the mean of target\n",
    "        self.initial_value = np.mean(target)\n",
    "        residual = target - self.initial_value\n",
    "\n",
    "        for _ in range(self.n_estimators):\n",
    "            tree = DecisionTreeRegressor(max_depth=self.max_depth)\n",
    "            tree.fit(features, residual)\n",
    "            predictions = tree.predict(features)\n",
    "            residual -= self.learning_rate * predictions\n",
    "            self.trees.append(tree)\n",
    "\n",
    "    def predict(self, features):\n",
    "        predictions = np.full(features.shape[0], self.initial_value)\n",
    "        for tree in self.trees:\n",
    "            predictions += self.learning_rate * tree.predict(features)\n",
    "        return predictions\n",
    "\n"
   ]
  },
  {
   "cell_type": "code",
   "execution_count": 8,
   "metadata": {},
   "outputs": [
    {
     "name": "stdout",
     "output_type": "stream",
     "text": [
      "| Metric   |         Mean |       Std Dev |\n",
      "|:---------|-------------:|--------------:|\n",
      "| MAE      |   194.171    |     8.23187   |\n",
      "| MSE      | 97217.2      | 19480.4       |\n",
      "| R2       |     0.802034 |     0.0338632 |\n",
      "\n",
      "=== Результаты на Тесте ===\n",
      "Среднеквадратичная ошибка (MSE): 120581.95\n",
      "Средняя абсолютная ошибка (MAE): 227.92\n",
      "Коэффициент детерминации (R^2): 0.75\n"
     ]
    }
   ],
   "source": [
    "metrics = regression_cross_validate(MyGradientBoostingRegressor, train_features.to_numpy(), train_target.to_numpy(), n_folds=5, n_estimators=50, max_depth=10)\n",
    "display_metrics_table(*metrics)\n",
    "\n",
    "gb = MyGradientBoostingRegressor(n_estimators=50, max_depth=10)\n",
    "gb.fit(train_features, train_target)\n",
    "\n",
    "predicted_target = gb.predict(test_features)\n",
    "\n",
    "# Метрики\n",
    "mse = mean_squared_error(test_target, predicted_target)\n",
    "mae = mean_absolute_error(test_target, predicted_target)\n",
    "r2 = r2_score(test_target, predicted_target)\n",
    "\n",
    "# Вывод метрик\n",
    "print(\"\\n=== Результаты на Тесте ===\")\n",
    "print(f\"Среднеквадратичная ошибка (MSE): {mse:.2f}\")\n",
    "print(f\"Средняя абсолютная ошибка (MAE): {mae:.2f}\")\n",
    "print(f\"Коэффициент детерминации (R^2): {r2:.2f}\")\n"
   ]
  },
  {
   "cell_type": "code",
   "execution_count": 9,
   "metadata": {},
   "outputs": [
    {
     "name": "stdout",
     "output_type": "stream",
     "text": [
      "| Metric   |         Mean |       Std Dev |\n",
      "|:---------|-------------:|--------------:|\n",
      "| MAE      |   193.502    |    10.2628    |\n",
      "| MSE      | 87898.1      | 13082.6       |\n",
      "| R2       |     0.819637 |     0.0320388 |\n",
      "\n",
      "=== Результаты на Тесте ===\n",
      "Среднеквадратичная ошибка (MSE): 62954.17\n",
      "Средняя абсолютная ошибка (MAE): 193.22\n",
      "Коэффициент детерминации (R^2): 0.87\n"
     ]
    }
   ],
   "source": [
    "metrics = regression_cross_validate(MyGradientBoostingRegressor, updated_train_features.to_numpy(), train_target.to_numpy(), n_folds=5, n_estimators=300, max_depth=3)\n",
    "display_metrics_table(*metrics)\n",
    "\n",
    "gb = GradientBoostingRegressor(n_estimators=100, max_depth=3)\n",
    "gb.fit(updated_train_features, train_target)\n",
    "\n",
    "predicted_target = gb.predict(updated_test_features)\n",
    "\n",
    "# Метрики\n",
    "mse = mean_squared_error(test_target, predicted_target)\n",
    "mae = mean_absolute_error(test_target, predicted_target)\n",
    "r2 = r2_score(test_target, predicted_target)\n",
    "\n",
    "# Вывод метрик\n",
    "print(\"\\n=== Результаты на Тесте ===\")\n",
    "print(f\"Среднеквадратичная ошибка (MSE): {mse:.2f}\")\n",
    "print(f\"Средняя абсолютная ошибка (MAE): {mae:.2f}\")\n",
    "print(f\"Коэффициент детерминации (R^2): {r2:.2f}\")"
   ]
  },
  {
   "cell_type": "markdown",
   "metadata": {},
   "source": [
    "Результаты демонстрируют, что разработанная собственная реализация модели в целом обеспечивает уровень качества, сопоставимый с результатами, достигаемыми стандартной моделью из библиотеки `sklearn`."
   ]
  },
  {
   "cell_type": "markdown",
   "metadata": {},
   "source": [
    "### Classification"
   ]
  },
  {
   "cell_type": "markdown",
   "metadata": {},
   "source": [
    " #### 1. Обработка данных"
   ]
  },
  {
   "cell_type": "code",
   "execution_count": 10,
   "metadata": {},
   "outputs": [
    {
     "data": {
      "text/html": [
       "<div>\n",
       "<style scoped>\n",
       "    .dataframe tbody tr th:only-of-type {\n",
       "        vertical-align: middle;\n",
       "    }\n",
       "\n",
       "    .dataframe tbody tr th {\n",
       "        vertical-align: top;\n",
       "    }\n",
       "\n",
       "    .dataframe thead th {\n",
       "        text-align: right;\n",
       "    }\n",
       "</style>\n",
       "<table border=\"1\" class=\"dataframe\">\n",
       "  <thead>\n",
       "    <tr style=\"text-align: right;\">\n",
       "      <th></th>\n",
       "      <th>time</th>\n",
       "      <th>trt</th>\n",
       "      <th>age</th>\n",
       "      <th>wtkg</th>\n",
       "      <th>hemo</th>\n",
       "      <th>homo</th>\n",
       "      <th>drugs</th>\n",
       "      <th>karnof</th>\n",
       "      <th>oprior</th>\n",
       "      <th>z30</th>\n",
       "      <th>...</th>\n",
       "      <th>str2</th>\n",
       "      <th>strat</th>\n",
       "      <th>symptom</th>\n",
       "      <th>treat</th>\n",
       "      <th>offtrt</th>\n",
       "      <th>cd40</th>\n",
       "      <th>cd420</th>\n",
       "      <th>cd80</th>\n",
       "      <th>cd820</th>\n",
       "      <th>infected</th>\n",
       "    </tr>\n",
       "  </thead>\n",
       "  <tbody>\n",
       "    <tr>\n",
       "      <th>0</th>\n",
       "      <td>948</td>\n",
       "      <td>2</td>\n",
       "      <td>48</td>\n",
       "      <td>89.8128</td>\n",
       "      <td>0</td>\n",
       "      <td>0</td>\n",
       "      <td>0</td>\n",
       "      <td>100</td>\n",
       "      <td>0</td>\n",
       "      <td>0</td>\n",
       "      <td>...</td>\n",
       "      <td>0</td>\n",
       "      <td>1</td>\n",
       "      <td>0</td>\n",
       "      <td>1</td>\n",
       "      <td>0</td>\n",
       "      <td>422</td>\n",
       "      <td>477</td>\n",
       "      <td>566</td>\n",
       "      <td>324</td>\n",
       "      <td>0</td>\n",
       "    </tr>\n",
       "    <tr>\n",
       "      <th>1</th>\n",
       "      <td>1002</td>\n",
       "      <td>3</td>\n",
       "      <td>61</td>\n",
       "      <td>49.4424</td>\n",
       "      <td>0</td>\n",
       "      <td>0</td>\n",
       "      <td>0</td>\n",
       "      <td>90</td>\n",
       "      <td>0</td>\n",
       "      <td>1</td>\n",
       "      <td>...</td>\n",
       "      <td>1</td>\n",
       "      <td>3</td>\n",
       "      <td>0</td>\n",
       "      <td>1</td>\n",
       "      <td>0</td>\n",
       "      <td>162</td>\n",
       "      <td>218</td>\n",
       "      <td>392</td>\n",
       "      <td>564</td>\n",
       "      <td>1</td>\n",
       "    </tr>\n",
       "    <tr>\n",
       "      <th>2</th>\n",
       "      <td>961</td>\n",
       "      <td>3</td>\n",
       "      <td>45</td>\n",
       "      <td>88.4520</td>\n",
       "      <td>0</td>\n",
       "      <td>1</td>\n",
       "      <td>1</td>\n",
       "      <td>90</td>\n",
       "      <td>0</td>\n",
       "      <td>1</td>\n",
       "      <td>...</td>\n",
       "      <td>1</td>\n",
       "      <td>3</td>\n",
       "      <td>0</td>\n",
       "      <td>1</td>\n",
       "      <td>1</td>\n",
       "      <td>326</td>\n",
       "      <td>274</td>\n",
       "      <td>2063</td>\n",
       "      <td>1893</td>\n",
       "      <td>0</td>\n",
       "    </tr>\n",
       "    <tr>\n",
       "      <th>3</th>\n",
       "      <td>1166</td>\n",
       "      <td>3</td>\n",
       "      <td>47</td>\n",
       "      <td>85.2768</td>\n",
       "      <td>0</td>\n",
       "      <td>1</td>\n",
       "      <td>0</td>\n",
       "      <td>100</td>\n",
       "      <td>0</td>\n",
       "      <td>1</td>\n",
       "      <td>...</td>\n",
       "      <td>1</td>\n",
       "      <td>3</td>\n",
       "      <td>0</td>\n",
       "      <td>1</td>\n",
       "      <td>0</td>\n",
       "      <td>287</td>\n",
       "      <td>394</td>\n",
       "      <td>1590</td>\n",
       "      <td>966</td>\n",
       "      <td>0</td>\n",
       "    </tr>\n",
       "    <tr>\n",
       "      <th>4</th>\n",
       "      <td>1090</td>\n",
       "      <td>0</td>\n",
       "      <td>43</td>\n",
       "      <td>66.6792</td>\n",
       "      <td>0</td>\n",
       "      <td>1</td>\n",
       "      <td>0</td>\n",
       "      <td>100</td>\n",
       "      <td>0</td>\n",
       "      <td>1</td>\n",
       "      <td>...</td>\n",
       "      <td>1</td>\n",
       "      <td>3</td>\n",
       "      <td>0</td>\n",
       "      <td>0</td>\n",
       "      <td>0</td>\n",
       "      <td>504</td>\n",
       "      <td>353</td>\n",
       "      <td>870</td>\n",
       "      <td>782</td>\n",
       "      <td>0</td>\n",
       "    </tr>\n",
       "  </tbody>\n",
       "</table>\n",
       "<p>5 rows × 23 columns</p>\n",
       "</div>"
      ],
      "text/plain": [
       "   time  trt  age     wtkg  hemo  homo  drugs  karnof  oprior  z30  ...  str2  \\\n",
       "0   948    2   48  89.8128     0     0      0     100       0    0  ...     0   \n",
       "1  1002    3   61  49.4424     0     0      0      90       0    1  ...     1   \n",
       "2   961    3   45  88.4520     0     1      1      90       0    1  ...     1   \n",
       "3  1166    3   47  85.2768     0     1      0     100       0    1  ...     1   \n",
       "4  1090    0   43  66.6792     0     1      0     100       0    1  ...     1   \n",
       "\n",
       "   strat  symptom  treat  offtrt  cd40  cd420  cd80  cd820  infected  \n",
       "0      1        0      1       0   422    477   566    324         0  \n",
       "1      3        0      1       0   162    218   392    564         1  \n",
       "2      3        0      1       1   326    274  2063   1893         0  \n",
       "3      3        0      1       0   287    394  1590    966         0  \n",
       "4      3        0      0       0   504    353   870    782         0  \n",
       "\n",
       "[5 rows x 23 columns]"
      ]
     },
     "execution_count": 10,
     "metadata": {},
     "output_type": "execute_result"
    }
   ],
   "source": [
    "df = pd.read_csv('data/AIDS_Classification.csv')\n",
    "df.head()"
   ]
  },
  {
   "cell_type": "code",
   "execution_count": 11,
   "metadata": {},
   "outputs": [],
   "source": [
    "features, target = df.drop(columns=['infected']), df['infected']\n",
    "\n",
    "train_features, test_features, train_target, test_target = train_test_split(features, target, random_state=42)\n",
    "\n",
    "num_features = features.select_dtypes(include=[np.number]).columns  # Численные признаки\n",
    "categorical_features = features.select_dtypes(exclude=[np.number]).columns  # Категориальные признаки\n",
    "\n",
    "le = OrdinalEncoder(handle_unknown='use_encoded_value',\n",
    "                    unknown_value=99)\n",
    "\n",
    "train_features[categorical_features] = le.fit_transform(train_features[categorical_features])\n",
    "test_features[categorical_features] = le.transform(test_features[categorical_features])\n",
    "\n",
    "imputer = SimpleImputer(strategy='most_frequent') \n",
    "train_features = pd.DataFrame(imputer.fit_transform(train_features), columns=train_features.columns)\n",
    "test_features = pd.DataFrame(imputer.transform(test_features), columns=test_features.columns)"
   ]
  },
  {
   "cell_type": "markdown",
   "metadata": {},
   "source": [
    "#### 2. Построение бейзлайна "
   ]
  },
  {
   "cell_type": "code",
   "execution_count": 12,
   "metadata": {},
   "outputs": [
    {
     "name": "stdout",
     "output_type": "stream",
     "text": [
      "| Metric    |     Mean |   Std Dev |\n",
      "|:----------|---------:|----------:|\n",
      "| Accuracy  | 0.872206 | 0.0129722 |\n",
      "| Precision | 0.869965 | 0.0132202 |\n",
      "| Recall    | 0.872206 | 0.0129722 |\n",
      "| F1-score  | 0.870697 | 0.0131217 |\n",
      "\n",
      "=== Результаты на Тесте ===\n",
      "1. Accuracy: 87.66%\n",
      "2. Precision: 87.44%\n",
      "3. Recall: 87.66%\n",
      "4. F1-score: 87.53%\n"
     ]
    }
   ],
   "source": [
    "metrics = classification_cross_validate(GradientBoostingClassifier, train_features.to_numpy(), train_target.to_numpy(), n_folds=5, n_estimators=50, max_depth=10)\n",
    "display_metrics_classification_table(*metrics)\n",
    "\n",
    "gb = GradientBoostingClassifier(random_state=42, n_estimators=50, max_depth=10)\n",
    "gb.fit(train_features, train_target)\n",
    "\n",
    "predicted_target = gb.predict(test_features)\n",
    "\n",
    "accuracy = accuracy_score(test_target, predicted_target)\n",
    "precision = precision_score(test_target, predicted_target, average='weighted')\n",
    "recall = recall_score(test_target, predicted_target, average='weighted')\n",
    "f1 = f1_score(test_target, predicted_target, average='weighted')\n",
    "\n",
    "# Выводим результаты\n",
    "print(\"\\n=== Результаты на Тесте ===\")\n",
    "print(f\"1. Accuracy: {accuracy:.2%}\")\n",
    "print(f\"2. Precision: {precision:.2%}\")\n",
    "print(f\"3. Recall: {recall:.2%}\")\n",
    "print(f\"4. F1-score: {f1:.2%}\")"
   ]
  },
  {
   "cell_type": "markdown",
   "metadata": {},
   "source": [
    "#### 3. Формулировка гипотез"
   ]
  },
  {
   "cell_type": "markdown",
   "metadata": {},
   "source": [
    "Сформулируем несколько гипотез, которые могут помочь улучшить качество модели\n",
    "\n",
    "1) Поменять Encoder категориальных признаков с `LabelEncoder` на `OneHotEncoder`\n",
    "2) Отмасштабировать численные признаки\n",
    "3) Уменьшить глубину и  увеличить число деревьев"
   ]
  },
  {
   "cell_type": "code",
   "execution_count": 13,
   "metadata": {},
   "outputs": [],
   "source": [
    "onehot = OneHotEncoder(sparse_output=False, drop='first', handle_unknown='ignore')\n",
    "\n",
    "encoded_train_data = onehot.fit_transform(train_features[categorical_features])\n",
    "encoded_test_data = onehot.transform(test_features[categorical_features])\n",
    "\n",
    "encoded_df = pd.DataFrame(encoded_train_data, columns=onehot.get_feature_names_out(categorical_features))\n",
    "updated_train_features = train_features.drop(columns=categorical_features).reset_index(drop=True)\n",
    "updated_train_features = pd.concat([updated_train_features, encoded_df], axis=1)\n",
    "\n",
    "encoded_df = pd.DataFrame(encoded_test_data, columns=onehot.get_feature_names_out(categorical_features))\n",
    "updated_test_features = test_features.drop(columns=categorical_features).reset_index(drop=True)\n",
    "updated_test_features = pd.concat([updated_test_features, encoded_df], axis=1)\n",
    "\n",
    "\n",
    "scaler = StandardScaler()\n",
    "updated_train_features[num_features] = scaler.fit_transform(train_features[num_features])\n",
    "updated_test_features[num_features] = scaler.transform(test_features[num_features])"
   ]
  },
  {
   "cell_type": "code",
   "execution_count": 14,
   "metadata": {},
   "outputs": [
    {
     "name": "stdout",
     "output_type": "stream",
     "text": [
      "| Metric    |     Mean |   Std Dev |\n",
      "|:----------|---------:|----------:|\n",
      "| Accuracy  | 0.890296 | 0.0252749 |\n",
      "| Precision | 0.887664 | 0.0270936 |\n",
      "| Recall    | 0.890296 | 0.0252749 |\n",
      "| F1-score  | 0.888305 | 0.0264199 |\n",
      "\n",
      "=== Результаты на Тесте ===\n",
      "1. Accuracy: 89.53%\n",
      "2. Precision: 89.32%\n",
      "3. Recall: 89.53%\n",
      "4. F1-score: 89.08%\n"
     ]
    }
   ],
   "source": [
    "metrics = classification_cross_validate(GradientBoostingClassifier, updated_train_features.to_numpy(), train_target.to_numpy(), n_folds=5, random_state=42, n_estimators=100, max_depth=5)\n",
    "display_metrics_classification_table(*metrics)\n",
    "\n",
    "gb = GradientBoostingClassifier(n_estimators=100, max_depth=5, random_state=42)\n",
    "gb.fit(updated_train_features, train_target)\n",
    "\n",
    "predicted_target = gb.predict(updated_test_features)\n",
    "\n",
    "accuracy = accuracy_score(test_target, predicted_target)\n",
    "precision = precision_score(test_target, predicted_target, average='weighted')\n",
    "recall = recall_score(test_target, predicted_target, average='weighted')\n",
    "f1 = f1_score(test_target, predicted_target, average='weighted')\n",
    "\n",
    "# Выводим результаты\n",
    "print(\"\\n=== Результаты на Тесте ===\")\n",
    "print(f\"1. Accuracy: {accuracy:.2%}\")\n",
    "print(f\"2. Precision: {precision:.2%}\")\n",
    "print(f\"3. Recall: {recall:.2%}\")\n",
    "print(f\"4. F1-score: {f1:.2%}\")"
   ]
  },
  {
   "cell_type": "markdown",
   "metadata": {},
   "source": [
    "Можно увидеть что в среднем значения метрик улучшились. \n",
    "Результаты на тестовой выборке также показывают приросты."
   ]
  },
  {
   "cell_type": "markdown",
   "metadata": {},
   "source": [
    "#### 4. Реализация своего класса"
   ]
  },
  {
   "cell_type": "code",
   "execution_count": 15,
   "metadata": {},
   "outputs": [],
   "source": [
    "class MyGradientBoostingClassifier:\n",
    "    def __init__(self, n_estimators=100, learning_rate=0.1, max_depth=3):\n",
    "        self.n_estimators = n_estimators\n",
    "        self.learning_rate = learning_rate\n",
    "        self.max_depth = max_depth\n",
    "        self.trees = []\n",
    "        self.initial_value = None\n",
    "\n",
    "    def _log_odds(self, target):\n",
    "        p = np.clip(np.mean(target), 1e-15, 1 - 1e-15)\n",
    "        return np.log(p / (1 - p))\n",
    "\n",
    "    def fit(self, features, target):\n",
    "        # Initialize with log-odds\n",
    "        self.initial_value = self._log_odds(target)\n",
    "        residual = target - self._sigmoid(self.initial_value)\n",
    "\n",
    "        for _ in range(self.n_estimators):\n",
    "            tree = DecisionTreeRegressor(max_depth=self.max_depth)\n",
    "            tree.fit(features, residual)\n",
    "            predictions = tree.predict(features)\n",
    "            residual -= self.learning_rate * predictions\n",
    "            self.trees.append(tree)\n",
    "\n",
    "    def predict_proba(self, features):\n",
    "        log_odds = np.full(features.shape[0], self.initial_value)\n",
    "        for tree in self.trees:\n",
    "            log_odds += self.learning_rate * tree.predict(features)\n",
    "        proba = self._sigmoid(log_odds)\n",
    "        return np.vstack([1 - proba, proba]).T\n",
    "\n",
    "    def predict(self, features):\n",
    "        proba = self.predict_proba(features)\n",
    "        return (proba[:, 1] > 0.3).astype(int)\n",
    "        # return proba\n",
    "\n",
    "    def _sigmoid(self, z):\n",
    "        return 1 / (1 + np.exp(-z))"
   ]
  },
  {
   "cell_type": "code",
   "execution_count": 16,
   "metadata": {},
   "outputs": [
    {
     "name": "stdout",
     "output_type": "stream",
     "text": [
      "| Metric    |     Mean |   Std Dev |\n",
      "|:----------|---------:|----------:|\n",
      "| Accuracy  | 0.756236 | 0.0254717 |\n",
      "| Precision | 0.572542 | 0.0392092 |\n",
      "| Recall    | 0.756236 | 0.0254717 |\n",
      "| F1-score  | 0.651508 | 0.0346697 |\n",
      "\n",
      "=== Результаты на Тесте ===\n",
      "1. Accuracy: 85.05%\n",
      "2. Precision: 84.90%\n",
      "3. Recall: 85.05%\n",
      "4. F1-score: 84.97%\n"
     ]
    }
   ],
   "source": [
    "metrics = classification_cross_validate(MyGradientBoostingClassifier, train_features.to_numpy(), train_target.to_numpy(), n_folds=5, n_estimators=5, max_depth=1)\n",
    "display_metrics_classification_table(*metrics)\n",
    "\n",
    "gb = MyGradientBoostingClassifier(n_estimators=100, max_depth=10)\n",
    "gb.fit(train_features, train_target)\n",
    "\n",
    "predicted_target = gb.predict(test_features)\n",
    "\n",
    "accuracy = accuracy_score(test_target, predicted_target)\n",
    "precision = precision_score(test_target, predicted_target, average='weighted')\n",
    "recall = recall_score(test_target, predicted_target, average='weighted')\n",
    "f1 = f1_score(test_target, predicted_target, average='weighted')\n",
    "\n",
    "# Выводим результаты\n",
    "print(\"\\n=== Результаты на Тесте ===\")\n",
    "print(f\"1. Accuracy: {accuracy:.2%}\")\n",
    "print(f\"2. Precision: {precision:.2%}\")\n",
    "print(f\"3. Recall: {recall:.2%}\")\n",
    "print(f\"4. F1-score: {f1:.2%}\")"
   ]
  },
  {
   "cell_type": "code",
   "execution_count": 17,
   "metadata": {},
   "outputs": [
    {
     "name": "stdout",
     "output_type": "stream",
     "text": [
      "| Metric    |     Mean |   Std Dev |\n",
      "|:----------|---------:|----------:|\n",
      "| Accuracy  | 0.885929 | 0.0200728 |\n",
      "| Precision | 0.884384 | 0.020128  |\n",
      "| Recall    | 0.885929 | 0.0200728 |\n",
      "| F1-score  | 0.883786 | 0.0201912 |\n",
      "\n",
      "=== Результаты на Тесте ===\n",
      "1. Accuracy: 87.48%\n",
      "2. Precision: 88.18%\n",
      "3. Recall: 87.48%\n",
      "4. F1-score: 86.13%\n"
     ]
    }
   ],
   "source": [
    "metrics = classification_cross_validate(MyGradientBoostingClassifier, updated_train_features.to_numpy(), train_target.to_numpy(), n_folds=5, n_estimators=100, max_depth=5)\n",
    "display_metrics_classification_table(*metrics)\n",
    "\n",
    "gb = MyGradientBoostingClassifier(n_estimators=10, max_depth=5)\n",
    "gb.fit(updated_train_features, train_target)\n",
    "\n",
    "predicted_target = gb.predict(updated_test_features)\n",
    "\n",
    "accuracy = accuracy_score(test_target, predicted_target)\n",
    "precision = precision_score(test_target, predicted_target, average='weighted')\n",
    "recall = recall_score(test_target, predicted_target, average='weighted')\n",
    "f1 = f1_score(test_target, predicted_target, average='weighted')\n",
    "\n",
    "# Выводим результаты\n",
    "print(\"\\n=== Результаты на Тесте ===\")\n",
    "print(f\"1. Accuracy: {accuracy:.2%}\")\n",
    "print(f\"2. Precision: {precision:.2%}\")\n",
    "print(f\"3. Recall: {recall:.2%}\")\n",
    "print(f\"4. F1-score: {f1:.2%}\")"
   ]
  },
  {
   "cell_type": "markdown",
   "metadata": {},
   "source": [
    "Результаты показывают, что собственная реализация модели в среднем такой же по качеству что и модели из `sklearn`, однако демонстрирует приросты при использовании улучшенного бейзлайна."
   ]
  },
  {
   "cell_type": "markdown",
   "metadata": {},
   "source": [
    "### Заключение"
   ]
  },
  {
   "cell_type": "markdown",
   "metadata": {},
   "source": [
    "Внесённые изменения, включая нормализацию данных и увеличение числа деревьев и уменьшение глубины в алгоритме бустинга, улучшают точность модели. Проведённые эксперименты демонстрируют, что как собственная реализация, так и применение моделей из sklearn, дают схожие результаты."
   ]
  },
  {
   "cell_type": "markdown",
   "metadata": {},
   "source": [
    "| Модель                    |      MSE  |        MAE |      $R^2$ |\n",
    "|:--------------------------|----------:|-----------:|-----------:|\n",
    "| Sklearn (до улучшения)    | 126493.13 | 219.29     |  0.74      |\n",
    "| Sklearn (после улучшения) | 63201.39  | 193.60     |  0.87      |\n",
    "| Собственная имплементация (до улучшения)   | 122053.65   | 228.68    |  0.75      |\n",
    "| Собственная имплементация (после улучшения)| 62979.43  | 193.22    |  0.87      |"
   ]
  },
  {
   "cell_type": "markdown",
   "metadata": {},
   "source": [
    "| Модель                    | Accuracy | Precision | Recall | F1-score |\n",
    "|:--------------------------|----------:|-----------:|--------:|---------:|\n",
    "| Sklearn (до улучшения)    |  87.66%   |   87.44%   |  87.66% |   87.53% |\n",
    "| Sklearn (после улучшения) |  89.53%   |   89.32%   |  89.53% |   89.08% |\n",
    "| Собственная имплементация (до улучшения)   |  85.05%   |   84.83%   |  85.05% |   84.93% |\n",
    "| Собственная имплементация (после улучшения)|  87.48%   |   88.18%   |  87.48% |   86.13% |"
   ]
  }
 ],
 "metadata": {
  "kernelspec": {
   "display_name": "labs",
   "language": "python",
   "name": "python3"
  },
  "language_info": {
   "codemirror_mode": {
    "name": "ipython",
    "version": 3
   },
   "file_extension": ".py",
   "mimetype": "text/x-python",
   "name": "python",
   "nbconvert_exporter": "python",
   "pygments_lexer": "ipython3",
   "version": "3.9.19"
  }
 },
 "nbformat": 4,
 "nbformat_minor": 2
}
