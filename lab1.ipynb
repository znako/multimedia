{
 "cells": [
  {
   "cell_type": "markdown",
   "metadata": {},
   "source": [
    "# Лабораторная работа 1 (KNN)"
   ]
  },
  {
   "cell_type": "markdown",
   "metadata": {},
   "source": [
    "## Пояснения к выбору начальных условий\n",
    "\n",
    "### Регрессия\n",
    "\n",
    "#### Датасет:\n",
    "Для решения задачи регрессии был выбран датасет \"Laptop Prices\" ([link](https://www.kaggle.com/datasets/owm4096/laptop-prices)). \n",
    "\n",
    "#### Метрики:\n",
    "\n",
    "Для оценки модели были выбраны следующие метрики:\n",
    "\n",
    "1. Mean Absolute Error (MAE) - Среднее абсолютное отклонение\n",
    "2. Mean Squared Error (MSE) - Среднеквадратичное отклонение\n",
    "3. R-squared ($R^2$) – Коэффициент детерминации\n",
    "\n",
    "### Классификация\n",
    "\n",
    "#### Датасет:\n",
    "\n",
    "Для решения задачи классификации был выбран датасет \"AIDS Virus Infection Prediction\" ([link](https://www.kaggle.com/datasets/aadarshvelu/aids-virus-infection-prediction)). \n",
    "\n",
    "#### Метрики:\n",
    "\n",
    "Для оценки модели были выбраны следующие метрики:\n",
    "\n",
    "1. Accuracy – Точность\n",
    "2. Precision – Точность предсказания для одного класса\n",
    "3. Recall – Полнота\n",
    "4. F1-score – Среднее гармоническое между Precision и Recall"
   ]
  },
  {
   "cell_type": "markdown",
   "metadata": {},
   "source": [
    "#### Импортируем библиотеки"
   ]
  },
  {
   "cell_type": "code",
   "execution_count": 1,
   "metadata": {},
   "outputs": [],
   "source": [
    "import numpy as np\n",
    "import pandas as pd\n",
    "import matplotlib.pyplot as plt\n",
    "from sklearn.impute import SimpleImputer\n",
    "from sklearn.preprocessing import LabelEncoder, StandardScaler, OneHotEncoder, OrdinalEncoder\n",
    "from sklearn.neighbors import KNeighborsRegressor, KNeighborsClassifier\n",
    "from annoy import AnnoyIndex\n",
    "from sklearn.model_selection import train_test_split\n",
    "from sklearn.metrics import mean_squared_error, r2_score, mean_absolute_error,accuracy_score, precision_score, recall_score, f1_score\n",
    "from collections import Counter\n",
    "from utils import regression_cross_validate, display_metrics_table, classification_cross_validate, display_metrics_classification_table"
   ]
  },
  {
   "cell_type": "code",
   "execution_count": 2,
   "metadata": {},
   "outputs": [],
   "source": [
    "import warnings\n",
    "warnings.filterwarnings(\"ignore\")"
   ]
  },
  {
   "cell_type": "markdown",
   "metadata": {},
   "source": [
    "### Regression"
   ]
  },
  {
   "cell_type": "markdown",
   "metadata": {},
   "source": [
    "#### 1. Обработка данных"
   ]
  },
  {
   "cell_type": "code",
   "execution_count": 3,
   "metadata": {},
   "outputs": [
    {
     "data": {
      "text/html": [
       "<div>\n",
       "<style scoped>\n",
       "    .dataframe tbody tr th:only-of-type {\n",
       "        vertical-align: middle;\n",
       "    }\n",
       "\n",
       "    .dataframe tbody tr th {\n",
       "        vertical-align: top;\n",
       "    }\n",
       "\n",
       "    .dataframe thead th {\n",
       "        text-align: right;\n",
       "    }\n",
       "</style>\n",
       "<table border=\"1\" class=\"dataframe\">\n",
       "  <thead>\n",
       "    <tr style=\"text-align: right;\">\n",
       "      <th></th>\n",
       "      <th>Company</th>\n",
       "      <th>Product</th>\n",
       "      <th>TypeName</th>\n",
       "      <th>Inches</th>\n",
       "      <th>Ram</th>\n",
       "      <th>OS</th>\n",
       "      <th>Weight</th>\n",
       "      <th>Price_euros</th>\n",
       "      <th>Screen</th>\n",
       "      <th>ScreenW</th>\n",
       "      <th>...</th>\n",
       "      <th>RetinaDisplay</th>\n",
       "      <th>CPU_company</th>\n",
       "      <th>CPU_freq</th>\n",
       "      <th>CPU_model</th>\n",
       "      <th>PrimaryStorage</th>\n",
       "      <th>SecondaryStorage</th>\n",
       "      <th>PrimaryStorageType</th>\n",
       "      <th>SecondaryStorageType</th>\n",
       "      <th>GPU_company</th>\n",
       "      <th>GPU_model</th>\n",
       "    </tr>\n",
       "  </thead>\n",
       "  <tbody>\n",
       "    <tr>\n",
       "      <th>0</th>\n",
       "      <td>Apple</td>\n",
       "      <td>MacBook Pro</td>\n",
       "      <td>Ultrabook</td>\n",
       "      <td>13.3</td>\n",
       "      <td>8</td>\n",
       "      <td>macOS</td>\n",
       "      <td>1.37</td>\n",
       "      <td>1339.69</td>\n",
       "      <td>Standard</td>\n",
       "      <td>2560</td>\n",
       "      <td>...</td>\n",
       "      <td>Yes</td>\n",
       "      <td>Intel</td>\n",
       "      <td>2.3</td>\n",
       "      <td>Core i5</td>\n",
       "      <td>128</td>\n",
       "      <td>0</td>\n",
       "      <td>SSD</td>\n",
       "      <td>No</td>\n",
       "      <td>Intel</td>\n",
       "      <td>Iris Plus Graphics 640</td>\n",
       "    </tr>\n",
       "    <tr>\n",
       "      <th>1</th>\n",
       "      <td>Apple</td>\n",
       "      <td>Macbook Air</td>\n",
       "      <td>Ultrabook</td>\n",
       "      <td>13.3</td>\n",
       "      <td>8</td>\n",
       "      <td>macOS</td>\n",
       "      <td>1.34</td>\n",
       "      <td>898.94</td>\n",
       "      <td>Standard</td>\n",
       "      <td>1440</td>\n",
       "      <td>...</td>\n",
       "      <td>No</td>\n",
       "      <td>Intel</td>\n",
       "      <td>1.8</td>\n",
       "      <td>Core i5</td>\n",
       "      <td>128</td>\n",
       "      <td>0</td>\n",
       "      <td>Flash Storage</td>\n",
       "      <td>No</td>\n",
       "      <td>Intel</td>\n",
       "      <td>HD Graphics 6000</td>\n",
       "    </tr>\n",
       "    <tr>\n",
       "      <th>2</th>\n",
       "      <td>HP</td>\n",
       "      <td>250 G6</td>\n",
       "      <td>Notebook</td>\n",
       "      <td>15.6</td>\n",
       "      <td>8</td>\n",
       "      <td>No OS</td>\n",
       "      <td>1.86</td>\n",
       "      <td>575.00</td>\n",
       "      <td>Full HD</td>\n",
       "      <td>1920</td>\n",
       "      <td>...</td>\n",
       "      <td>No</td>\n",
       "      <td>Intel</td>\n",
       "      <td>2.5</td>\n",
       "      <td>Core i5 7200U</td>\n",
       "      <td>256</td>\n",
       "      <td>0</td>\n",
       "      <td>SSD</td>\n",
       "      <td>No</td>\n",
       "      <td>Intel</td>\n",
       "      <td>HD Graphics 620</td>\n",
       "    </tr>\n",
       "    <tr>\n",
       "      <th>3</th>\n",
       "      <td>Apple</td>\n",
       "      <td>MacBook Pro</td>\n",
       "      <td>Ultrabook</td>\n",
       "      <td>15.4</td>\n",
       "      <td>16</td>\n",
       "      <td>macOS</td>\n",
       "      <td>1.83</td>\n",
       "      <td>2537.45</td>\n",
       "      <td>Standard</td>\n",
       "      <td>2880</td>\n",
       "      <td>...</td>\n",
       "      <td>Yes</td>\n",
       "      <td>Intel</td>\n",
       "      <td>2.7</td>\n",
       "      <td>Core i7</td>\n",
       "      <td>512</td>\n",
       "      <td>0</td>\n",
       "      <td>SSD</td>\n",
       "      <td>No</td>\n",
       "      <td>AMD</td>\n",
       "      <td>Radeon Pro 455</td>\n",
       "    </tr>\n",
       "    <tr>\n",
       "      <th>4</th>\n",
       "      <td>Apple</td>\n",
       "      <td>MacBook Pro</td>\n",
       "      <td>Ultrabook</td>\n",
       "      <td>13.3</td>\n",
       "      <td>8</td>\n",
       "      <td>macOS</td>\n",
       "      <td>1.37</td>\n",
       "      <td>1803.60</td>\n",
       "      <td>Standard</td>\n",
       "      <td>2560</td>\n",
       "      <td>...</td>\n",
       "      <td>Yes</td>\n",
       "      <td>Intel</td>\n",
       "      <td>3.1</td>\n",
       "      <td>Core i5</td>\n",
       "      <td>256</td>\n",
       "      <td>0</td>\n",
       "      <td>SSD</td>\n",
       "      <td>No</td>\n",
       "      <td>Intel</td>\n",
       "      <td>Iris Plus Graphics 650</td>\n",
       "    </tr>\n",
       "  </tbody>\n",
       "</table>\n",
       "<p>5 rows × 23 columns</p>\n",
       "</div>"
      ],
      "text/plain": [
       "  Company      Product   TypeName  Inches  Ram     OS  Weight  Price_euros  \\\n",
       "0   Apple  MacBook Pro  Ultrabook    13.3    8  macOS    1.37      1339.69   \n",
       "1   Apple  Macbook Air  Ultrabook    13.3    8  macOS    1.34       898.94   \n",
       "2      HP       250 G6   Notebook    15.6    8  No OS    1.86       575.00   \n",
       "3   Apple  MacBook Pro  Ultrabook    15.4   16  macOS    1.83      2537.45   \n",
       "4   Apple  MacBook Pro  Ultrabook    13.3    8  macOS    1.37      1803.60   \n",
       "\n",
       "     Screen  ScreenW  ...  RetinaDisplay CPU_company CPU_freq      CPU_model  \\\n",
       "0  Standard     2560  ...            Yes       Intel      2.3        Core i5   \n",
       "1  Standard     1440  ...             No       Intel      1.8        Core i5   \n",
       "2   Full HD     1920  ...             No       Intel      2.5  Core i5 7200U   \n",
       "3  Standard     2880  ...            Yes       Intel      2.7        Core i7   \n",
       "4  Standard     2560  ...            Yes       Intel      3.1        Core i5   \n",
       "\n",
       "  PrimaryStorage  SecondaryStorage PrimaryStorageType  SecondaryStorageType  \\\n",
       "0            128                 0                SSD                    No   \n",
       "1            128                 0      Flash Storage                    No   \n",
       "2            256                 0                SSD                    No   \n",
       "3            512                 0                SSD                    No   \n",
       "4            256                 0                SSD                    No   \n",
       "\n",
       "   GPU_company               GPU_model  \n",
       "0        Intel  Iris Plus Graphics 640  \n",
       "1        Intel        HD Graphics 6000  \n",
       "2        Intel         HD Graphics 620  \n",
       "3          AMD          Radeon Pro 455  \n",
       "4        Intel  Iris Plus Graphics 650  \n",
       "\n",
       "[5 rows x 23 columns]"
      ]
     },
     "execution_count": 3,
     "metadata": {},
     "output_type": "execute_result"
    }
   ],
   "source": [
    "df = pd.read_csv('data/laptop_prices.csv')\n",
    "df.head()"
   ]
  },
  {
   "cell_type": "code",
   "execution_count": 4,
   "metadata": {},
   "outputs": [],
   "source": [
    "features, target = df.drop(columns=['Price_euros']), df['Price_euros']\n",
    "\n",
    "num_cols= features.select_dtypes(include=[np.number]).columns  # Численные признаки\n",
    "cat_cols = features.select_dtypes(exclude=[np.number]).columns  # Категориальные признаки\n",
    "\n",
    "train_features, test_features, train_target, test_target = train_test_split(features, target, random_state=42)\n",
    "\n",
    "ordinal_encoder = OrdinalEncoder(handle_unknown='use_encoded_value',\n",
    "                    unknown_value=-1)\n",
    "\n",
    "train_features[cat_cols] = ordinal_encoder.fit_transform(train_features[cat_cols])\n",
    "test_features[cat_cols] = ordinal_encoder.transform(test_features[cat_cols])\n",
    "\n",
    "most_frequent_imputer = SimpleImputer(strategy='most_frequent') \n",
    "train_features= pd.DataFrame(most_frequent_imputer.fit_transform(train_features), columns=train_features.columns)\n",
    "test_features = pd.DataFrame(most_frequent_imputer.transform(test_features), columns=test_features.columns)"
   ]
  },
  {
   "cell_type": "markdown",
   "metadata": {},
   "source": [
    "#### 2. Построение бейзлайна "
   ]
  },
  {
   "cell_type": "markdown",
   "metadata": {},
   "source": [
    "Для оценки модели будем использовать метод кросс валидации, который позволяет более качественно оценить полученные метрики."
   ]
  },
  {
   "cell_type": "markdown",
   "metadata": {},
   "source": [
    "Построим модель используя реализацию из sklearn"
   ]
  },
  {
   "cell_type": "code",
   "execution_count": 5,
   "metadata": {},
   "outputs": [
    {
     "name": "stdout",
     "output_type": "stream",
     "text": [
      "| Metric   |          Mean |     Std Dev |\n",
      "|:---------|--------------:|------------:|\n",
      "| MAE      |    285.831    |    19.1653  |\n",
      "| MSE      | 217029        | 47245.6     |\n",
      "| R2       |      0.562415 |     0.05428 |\n",
      "\n",
      "=== Результаты на Тесте ===\n",
      "Среднеквадратичная ошибка (MSE): 301414.49\n",
      "Средняя абсолютная ошибка (MAE): 349.37\n",
      "Коэффициент детерминации (R^2): 0.38\n"
     ]
    }
   ],
   "source": [
    "regression_metrics = regression_cross_validate(KNeighborsRegressor, train_features.to_numpy(), train_target.to_numpy(), n_folds=5, n_neighbors=3)\n",
    "display_metrics_table(*regression_metrics)\n",
    "\n",
    "knn = KNeighborsRegressor(n_neighbors=3)\n",
    "knn.fit(train_features, train_target)\n",
    "\n",
    "predicted_target = knn.predict(test_features)\n",
    "\n",
    "# Метрики\n",
    "mse = mean_squared_error(test_target, predicted_target)\n",
    "mae = mean_absolute_error(test_target, predicted_target)\n",
    "r2 = r2_score(test_target, predicted_target)\n",
    "\n",
    "# Вывод метрик\n",
    "print(\"\\n=== Результаты на Тесте ===\")\n",
    "print(f\"Среднеквадратичная ошибка (MSE): {mse:.2f}\")\n",
    "print(f\"Средняя абсолютная ошибка (MAE): {mae:.2f}\")\n",
    "print(f\"Коэффициент детерминации (R^2): {r2:.2f}\")"
   ]
  },
  {
   "cell_type": "markdown",
   "metadata": {},
   "source": [
    "Значение метрики $R^2$ составляет около 0.38, что указывает на то, что модель объясняет примерно 38% вариации данных. Кроме того, среднее абсолютное значение ошибки (MAE) равно 349.37, что характеризует точность предсказаний модели в абсолютных единицах (в среднем предсказания ошибаются на 349 евро)."
   ]
  },
  {
   "cell_type": "markdown",
   "metadata": {},
   "source": [
    "#### 3. Формулировка гипотез"
   ]
  },
  {
   "cell_type": "markdown",
   "metadata": {},
   "source": [
    "Сформулируем несколько гипотез, которые могут помочь улучшить качество модели\n",
    "\n",
    "1) Поменять Encoder категориальных признаков с `LabelEncoder` на `OneHotEncoder`\n",
    "2) Отмасштабировать численные признаки\n",
    "3) Увеличить число соседей"
   ]
  },
  {
   "cell_type": "code",
   "execution_count": 6,
   "metadata": {},
   "outputs": [],
   "source": [
    "onehot = OneHotEncoder(sparse_output=False, drop='first', handle_unknown='ignore')\n",
    "\n",
    "encoded_train_data = onehot.fit_transform(train_features[cat_cols])\n",
    "encoded_test_data = onehot.transform(test_features[cat_cols])\n",
    "\n",
    "encoded_df = pd.DataFrame(encoded_train_data, columns=onehot.get_feature_names_out(cat_cols))\n",
    "updated_train_features = train_features.drop(columns=cat_cols).reset_index(drop=True)\n",
    "updated_train_features = pd.concat([updated_train_features, encoded_df], axis=1)\n",
    "\n",
    "encoded_df = pd.DataFrame(encoded_test_data, columns=onehot.get_feature_names_out(cat_cols))\n",
    "updated_test_features = test_features.drop(columns=cat_cols).reset_index(drop=True)\n",
    "updated_test_features = pd.concat([updated_test_features, encoded_df], axis=1)\n"
   ]
  },
  {
   "cell_type": "code",
   "execution_count": 7,
   "metadata": {},
   "outputs": [],
   "source": [
    "scaler = StandardScaler()\n",
    "updated_train_features[num_cols] = scaler.fit_transform(train_features[num_cols])\n",
    "updated_test_features[num_cols] = scaler.transform(test_features[num_cols])"
   ]
  },
  {
   "cell_type": "code",
   "execution_count": 8,
   "metadata": {},
   "outputs": [
    {
     "name": "stdout",
     "output_type": "stream",
     "text": [
      "| Metric   |          Mean |       Std Dev |\n",
      "|:---------|--------------:|--------------:|\n",
      "| MAE      |    203.488    |    11.6162    |\n",
      "| MSE      | 102121        | 10468.3       |\n",
      "| R2       |      0.791057 |     0.0227702 |\n",
      "\n",
      "=== Результаты на Тесте ===\n",
      "Среднеквадратичная ошибка (MSE): 101359.24\n",
      "Средняя абсолютная ошибка (MAE): 207.16\n",
      "Коэффициент детерминации (R^2): 0.79\n"
     ]
    }
   ],
   "source": [
    "regression_metrics = regression_cross_validate(KNeighborsRegressor, updated_train_features.to_numpy(), train_target.to_numpy(), n_folds=5, n_neighbors=5)\n",
    "display_metrics_table(*regression_metrics)\n",
    "\n",
    "knn = KNeighborsRegressor(n_neighbors=5)\n",
    "knn.fit(updated_train_features, train_target)\n",
    "\n",
    "predicted_target = knn.predict(updated_test_features)\n",
    "\n",
    "# Метрики\n",
    "mse = mean_squared_error(test_target, predicted_target)\n",
    "mae = mean_absolute_error(test_target, predicted_target)\n",
    "r2 = r2_score(test_target, predicted_target)\n",
    "\n",
    "# Вывод метрик\n",
    "print(\"\\n=== Результаты на Тесте ===\")\n",
    "print(f\"Среднеквадратичная ошибка (MSE): {mse:.2f}\")\n",
    "print(f\"Средняя абсолютная ошибка (MAE): {mae:.2f}\")\n",
    "print(f\"Коэффициент детерминации (R^2): {r2:.2f}\")"
   ]
  },
  {
   "cell_type": "markdown",
   "metadata": {},
   "source": [
    "Можно заметить, что в среднем показатели метрик значительно улучшились по сравнению с предыдущими результатами. Анализ результатов на тестовой выборке также демонстрирует существенные улучшения, что подтверждает эффективность проведённых модификаций."
   ]
  },
  {
   "cell_type": "markdown",
   "metadata": {},
   "source": [
    "#### 4. Реализация своего класса"
   ]
  },
  {
   "cell_type": "code",
   "execution_count": 9,
   "metadata": {},
   "outputs": [],
   "source": [
    "class CustomKNNRegressor:\n",
    "    def __init__(self, n_neighbors=5):\n",
    "        self.n_neighbors = n_neighbors\n",
    "    \n",
    "    def fit(self, features, target):\n",
    "        self.train_features= np.array(features)\n",
    "        self.train_target = np.array(target)\n",
    "    \n",
    "    def _calculate_distance(self, x1, x2):\n",
    "        return np.sqrt(np.sum((x1 - x2) ** 2))\n",
    "    \n",
    "    def predict(self, features):\n",
    "        features = np.array(features)\n",
    "        predictions = []\n",
    "        \n",
    "        for x in features:\n",
    "            distances = np.array([self._calculate_distance(x, x_train) for x_train in self.train_features])\n",
    "            nearest_indices = distances.argsort()[:self.n_neighbors]\n",
    "            nearest_neighbors_values = self.train_target[nearest_indices]\n",
    "            predictions.append(nearest_neighbors_values.mean())\n",
    "        \n",
    "        return np.array(predictions)"
   ]
  },
  {
   "cell_type": "code",
   "execution_count": 10,
   "metadata": {},
   "outputs": [
    {
     "name": "stdout",
     "output_type": "stream",
     "text": [
      "| Metric   |          Mean |       Std Dev |\n",
      "|:---------|--------------:|--------------:|\n",
      "| MAE      |    285.928    |    19.2828    |\n",
      "| MSE      | 217053        | 47253.6       |\n",
      "| R2       |      0.562367 |     0.0543076 |\n",
      "\n",
      "=== Результаты на Тесте ===\n",
      "Среднеквадратичная ошибка (MSE): 301308.79\n",
      "Средняя абсолютная ошибка (MAE): 349.13\n",
      "Коэффициент детерминации (R^2): 0.38\n"
     ]
    }
   ],
   "source": [
    "regression_metrics = regression_cross_validate(CustomKNNRegressor, train_features.to_numpy(), train_target.to_numpy(), n_folds=5, n_neighbors=3)\n",
    "display_metrics_table(*regression_metrics)\n",
    "\n",
    "knn = CustomKNNRegressor(n_neighbors=3)\n",
    "knn.fit(train_features, train_target)\n",
    "\n",
    "predicted_target = knn.predict(test_features)\n",
    "\n",
    "# Метрики\n",
    "mse = mean_squared_error(test_target, predicted_target)\n",
    "mae = mean_absolute_error(test_target, predicted_target)\n",
    "r2 = r2_score(test_target, predicted_target)\n",
    "\n",
    "# Вывод метрик\n",
    "print(\"\\n=== Результаты на Тесте ===\")\n",
    "print(f\"Среднеквадратичная ошибка (MSE): {mse:.2f}\")\n",
    "print(f\"Средняя абсолютная ошибка (MAE): {mae:.2f}\")\n",
    "print(f\"Коэффициент детерминации (R^2): {r2:.2f}\")"
   ]
  },
  {
   "cell_type": "code",
   "execution_count": 11,
   "metadata": {},
   "outputs": [
    {
     "name": "stdout",
     "output_type": "stream",
     "text": [
      "| Metric   |          Mean |       Std Dev |\n",
      "|:---------|--------------:|--------------:|\n",
      "| MAE      |    203.892    |    11.6598    |\n",
      "| MSE      | 102460        | 10417.9       |\n",
      "| R2       |      0.790343 |     0.0228555 |\n",
      "\n",
      "=== Результаты на Тесте ===\n",
      "Среднеквадратичная ошибка (MSE): 101052.34\n",
      "Средняя абсолютная ошибка (MAE): 206.55\n",
      "Коэффициент детерминации (R^2): 0.79\n"
     ]
    }
   ],
   "source": [
    "regression_metrics = regression_cross_validate(CustomKNNRegressor, updated_train_features.to_numpy(), train_target.to_numpy(), n_folds=5, n_neighbors=5)\n",
    "display_metrics_table(*regression_metrics)\n",
    "\n",
    "knn = CustomKNNRegressor(n_neighbors=5)\n",
    "knn.fit(updated_train_features, train_target)\n",
    "\n",
    "predicted_target = knn.predict(updated_test_features)\n",
    "\n",
    "# Метрики\n",
    "mse = mean_squared_error(test_target, predicted_target)\n",
    "mae = mean_absolute_error(test_target, predicted_target)\n",
    "r2 = r2_score(test_target, predicted_target)\n",
    "\n",
    "# Вывод метрик\n",
    "print(\"\\n=== Результаты на Тесте ===\")\n",
    "print(f\"Среднеквадратичная ошибка (MSE): {mse:.2f}\")\n",
    "print(f\"Средняя абсолютная ошибка (MAE): {mae:.2f}\")\n",
    "print(f\"Коэффициент детерминации (R^2): {r2:.2f}\")"
   ]
  },
  {
   "cell_type": "markdown",
   "metadata": {},
   "source": [
    "Результаты демонстрируют, что разработанная собственная реализация модели в целом обеспечивает уровень качества, сопоставимый с результатами, достигаемыми стандартной моделью из библиотеки `sklearn`."
   ]
  },
  {
   "cell_type": "markdown",
   "metadata": {},
   "source": [
    "### Classification"
   ]
  },
  {
   "cell_type": "markdown",
   "metadata": {},
   "source": [
    "#### 1. Обработка данных"
   ]
  },
  {
   "cell_type": "code",
   "execution_count": 12,
   "metadata": {},
   "outputs": [
    {
     "data": {
      "text/html": [
       "<div>\n",
       "<style scoped>\n",
       "    .dataframe tbody tr th:only-of-type {\n",
       "        vertical-align: middle;\n",
       "    }\n",
       "\n",
       "    .dataframe tbody tr th {\n",
       "        vertical-align: top;\n",
       "    }\n",
       "\n",
       "    .dataframe thead th {\n",
       "        text-align: right;\n",
       "    }\n",
       "</style>\n",
       "<table border=\"1\" class=\"dataframe\">\n",
       "  <thead>\n",
       "    <tr style=\"text-align: right;\">\n",
       "      <th></th>\n",
       "      <th>time</th>\n",
       "      <th>trt</th>\n",
       "      <th>age</th>\n",
       "      <th>wtkg</th>\n",
       "      <th>hemo</th>\n",
       "      <th>homo</th>\n",
       "      <th>drugs</th>\n",
       "      <th>karnof</th>\n",
       "      <th>oprior</th>\n",
       "      <th>z30</th>\n",
       "      <th>...</th>\n",
       "      <th>str2</th>\n",
       "      <th>strat</th>\n",
       "      <th>symptom</th>\n",
       "      <th>treat</th>\n",
       "      <th>offtrt</th>\n",
       "      <th>cd40</th>\n",
       "      <th>cd420</th>\n",
       "      <th>cd80</th>\n",
       "      <th>cd820</th>\n",
       "      <th>infected</th>\n",
       "    </tr>\n",
       "  </thead>\n",
       "  <tbody>\n",
       "    <tr>\n",
       "      <th>0</th>\n",
       "      <td>948</td>\n",
       "      <td>2</td>\n",
       "      <td>48</td>\n",
       "      <td>89.8128</td>\n",
       "      <td>0</td>\n",
       "      <td>0</td>\n",
       "      <td>0</td>\n",
       "      <td>100</td>\n",
       "      <td>0</td>\n",
       "      <td>0</td>\n",
       "      <td>...</td>\n",
       "      <td>0</td>\n",
       "      <td>1</td>\n",
       "      <td>0</td>\n",
       "      <td>1</td>\n",
       "      <td>0</td>\n",
       "      <td>422</td>\n",
       "      <td>477</td>\n",
       "      <td>566</td>\n",
       "      <td>324</td>\n",
       "      <td>0</td>\n",
       "    </tr>\n",
       "    <tr>\n",
       "      <th>1</th>\n",
       "      <td>1002</td>\n",
       "      <td>3</td>\n",
       "      <td>61</td>\n",
       "      <td>49.4424</td>\n",
       "      <td>0</td>\n",
       "      <td>0</td>\n",
       "      <td>0</td>\n",
       "      <td>90</td>\n",
       "      <td>0</td>\n",
       "      <td>1</td>\n",
       "      <td>...</td>\n",
       "      <td>1</td>\n",
       "      <td>3</td>\n",
       "      <td>0</td>\n",
       "      <td>1</td>\n",
       "      <td>0</td>\n",
       "      <td>162</td>\n",
       "      <td>218</td>\n",
       "      <td>392</td>\n",
       "      <td>564</td>\n",
       "      <td>1</td>\n",
       "    </tr>\n",
       "    <tr>\n",
       "      <th>2</th>\n",
       "      <td>961</td>\n",
       "      <td>3</td>\n",
       "      <td>45</td>\n",
       "      <td>88.4520</td>\n",
       "      <td>0</td>\n",
       "      <td>1</td>\n",
       "      <td>1</td>\n",
       "      <td>90</td>\n",
       "      <td>0</td>\n",
       "      <td>1</td>\n",
       "      <td>...</td>\n",
       "      <td>1</td>\n",
       "      <td>3</td>\n",
       "      <td>0</td>\n",
       "      <td>1</td>\n",
       "      <td>1</td>\n",
       "      <td>326</td>\n",
       "      <td>274</td>\n",
       "      <td>2063</td>\n",
       "      <td>1893</td>\n",
       "      <td>0</td>\n",
       "    </tr>\n",
       "    <tr>\n",
       "      <th>3</th>\n",
       "      <td>1166</td>\n",
       "      <td>3</td>\n",
       "      <td>47</td>\n",
       "      <td>85.2768</td>\n",
       "      <td>0</td>\n",
       "      <td>1</td>\n",
       "      <td>0</td>\n",
       "      <td>100</td>\n",
       "      <td>0</td>\n",
       "      <td>1</td>\n",
       "      <td>...</td>\n",
       "      <td>1</td>\n",
       "      <td>3</td>\n",
       "      <td>0</td>\n",
       "      <td>1</td>\n",
       "      <td>0</td>\n",
       "      <td>287</td>\n",
       "      <td>394</td>\n",
       "      <td>1590</td>\n",
       "      <td>966</td>\n",
       "      <td>0</td>\n",
       "    </tr>\n",
       "    <tr>\n",
       "      <th>4</th>\n",
       "      <td>1090</td>\n",
       "      <td>0</td>\n",
       "      <td>43</td>\n",
       "      <td>66.6792</td>\n",
       "      <td>0</td>\n",
       "      <td>1</td>\n",
       "      <td>0</td>\n",
       "      <td>100</td>\n",
       "      <td>0</td>\n",
       "      <td>1</td>\n",
       "      <td>...</td>\n",
       "      <td>1</td>\n",
       "      <td>3</td>\n",
       "      <td>0</td>\n",
       "      <td>0</td>\n",
       "      <td>0</td>\n",
       "      <td>504</td>\n",
       "      <td>353</td>\n",
       "      <td>870</td>\n",
       "      <td>782</td>\n",
       "      <td>0</td>\n",
       "    </tr>\n",
       "  </tbody>\n",
       "</table>\n",
       "<p>5 rows × 23 columns</p>\n",
       "</div>"
      ],
      "text/plain": [
       "   time  trt  age     wtkg  hemo  homo  drugs  karnof  oprior  z30  ...  str2  \\\n",
       "0   948    2   48  89.8128     0     0      0     100       0    0  ...     0   \n",
       "1  1002    3   61  49.4424     0     0      0      90       0    1  ...     1   \n",
       "2   961    3   45  88.4520     0     1      1      90       0    1  ...     1   \n",
       "3  1166    3   47  85.2768     0     1      0     100       0    1  ...     1   \n",
       "4  1090    0   43  66.6792     0     1      0     100       0    1  ...     1   \n",
       "\n",
       "   strat  symptom  treat  offtrt  cd40  cd420  cd80  cd820  infected  \n",
       "0      1        0      1       0   422    477   566    324         0  \n",
       "1      3        0      1       0   162    218   392    564         1  \n",
       "2      3        0      1       1   326    274  2063   1893         0  \n",
       "3      3        0      1       0   287    394  1590    966         0  \n",
       "4      3        0      0       0   504    353   870    782         0  \n",
       "\n",
       "[5 rows x 23 columns]"
      ]
     },
     "execution_count": 12,
     "metadata": {},
     "output_type": "execute_result"
    }
   ],
   "source": [
    "df = pd.read_csv('data/AIDS_Classification.csv')\n",
    "df.head()"
   ]
  },
  {
   "cell_type": "code",
   "execution_count": 13,
   "metadata": {},
   "outputs": [],
   "source": [
    "features, target = df.drop(columns=['infected']), df['infected']\n",
    "\n",
    "train_features, test_features, train_target, test_target = train_test_split(features, target, random_state=42)\n",
    "\n",
    "numeric_cols = features.select_dtypes(include=[np.number]).columns  # Численные признаки\n",
    "cat_cols = features.select_dtypes(exclude=[np.number]).columns  # Категориальные признаки\n",
    "\n",
    "ordinal_encoder = OrdinalEncoder(handle_unknown='use_encoded_value',\n",
    "                    unknown_value=99)\n",
    "\n",
    "train_features[cat_cols] = ordinal_encoder.fit_transform(train_features[cat_cols])\n",
    "test_features[cat_cols] = ordinal_encoder.transform(test_features[cat_cols])\n",
    "\n",
    "most_frequent_imputer = SimpleImputer(strategy='most_frequent') \n",
    "train_features= pd.DataFrame(most_frequent_imputer.fit_transform(train_features), columns=train_features.columns)\n",
    "test_features = pd.DataFrame(most_frequent_imputer.transform(test_features), columns=test_features.columns)"
   ]
  },
  {
   "cell_type": "markdown",
   "metadata": {},
   "source": [
    "#### 2. Построение бейзлайна "
   ]
  },
  {
   "cell_type": "code",
   "execution_count": 14,
   "metadata": {},
   "outputs": [
    {
     "name": "stdout",
     "output_type": "stream",
     "text": [
      "| Metric    |     Mean |   Std Dev |\n",
      "|:----------|---------:|----------:|\n",
      "| Accuracy  | 0.797385 | 0.0308157 |\n",
      "| Precision | 0.778979 | 0.0370002 |\n",
      "| Recall    | 0.797385 | 0.0308157 |\n",
      "| F1-score  | 0.77263  | 0.0352112 |\n",
      "\n",
      "=== Результаты на Тесте ===\n",
      "1. Accuracy: 80.56%\n",
      "2. Precision: 78.99%\n",
      "3. Recall: 80.56%\n",
      "4. F1-score: 78.42%\n"
     ]
    }
   ],
   "source": [
    "classification_metrics = classification_cross_validate(KNeighborsClassifier, train_features.to_numpy(), train_target.to_numpy(), n_folds=5, n_neighbors=2)\n",
    "display_metrics_classification_table(*classification_metrics)\n",
    "\n",
    "knn = KNeighborsClassifier(n_neighbors=2)  # Выбираем количество соседей\n",
    "knn.fit(train_features, train_target)\n",
    "\n",
    "predicted_target = knn.predict(test_features)\n",
    "\n",
    "accuracy_metric = accuracy_score(test_target, predicted_target)\n",
    "precision_metric = precision_score(test_target, predicted_target, average='weighted')\n",
    "recall_metric = recall_score(test_target, predicted_target, average='weighted')\n",
    "f1_score_metric = f1_score(test_target, predicted_target, average='weighted')\n",
    "\n",
    "# Выводим результаты\n",
    "print(\"\\n=== Результаты на Тесте ===\")\n",
    "print(f\"1. Accuracy: {accuracy_metric:.2%}\")\n",
    "print(f\"2. Precision: {precision_metric:.2%}\")\n",
    "print(f\"3. Recall: {recall_metric:.2%}\")\n",
    "print(f\"4. F1-score: {f1_score_metric:.2%}\")"
   ]
  },
  {
   "cell_type": "markdown",
   "metadata": {},
   "source": [
    "#### 3. Формулировка гипотез"
   ]
  },
  {
   "cell_type": "markdown",
   "metadata": {},
   "source": [
    "Сформулируем несколько гипотез, которые могут помочь улучшить качество модели\n",
    "\n",
    "1) Поменять Encoder категориальных признаков с `LabelEncoder` на `OneHotEncoder`\n",
    "2) Увеличить число соседей"
   ]
  },
  {
   "cell_type": "code",
   "execution_count": 15,
   "metadata": {},
   "outputs": [],
   "source": [
    "onehot = OneHotEncoder(sparse_output=False, drop='first', handle_unknown='ignore')\n",
    "\n",
    "encoded_train_data = onehot.fit_transform(train_features[cat_cols])\n",
    "encoded_test_data = onehot.transform(test_features[cat_cols])\n",
    "\n",
    "encoded_df = pd.DataFrame(encoded_train_data, columns=onehot.get_feature_names_out(cat_cols))\n",
    "updated_train_features = train_features.drop(columns=cat_cols).reset_index(drop=True)\n",
    "updated_train_features = pd.concat([updated_train_features, encoded_df], axis=1)\n",
    "\n",
    "encoded_df = pd.DataFrame(encoded_test_data, columns=onehot.get_feature_names_out(cat_cols))\n",
    "updated_test_features = test_features.drop(columns=cat_cols).reset_index(drop=True)\n",
    "updated_test_features = pd.concat([updated_test_features, encoded_df], axis=1)"
   ]
  },
  {
   "cell_type": "code",
   "execution_count": 16,
   "metadata": {},
   "outputs": [
    {
     "name": "stdout",
     "output_type": "stream",
     "text": [
      "| Metric    |     Mean |    Std Dev |\n",
      "|:----------|---------:|-----------:|\n",
      "| Accuracy  | 0.832921 | 0.00569355 |\n",
      "| Precision | 0.825686 | 0.00687814 |\n",
      "| Recall    | 0.832921 | 0.00569355 |\n",
      "| F1-score  | 0.826611 | 0.00653782 |\n",
      "\n",
      "=== Результаты на Тесте ===\n",
      "1. Accuracy: 83.36%\n",
      "2. Precision: 82.46%\n",
      "3. Recall: 83.36%\n",
      "4. F1-score: 82.55%\n"
     ]
    }
   ],
   "source": [
    "classification_metrics = classification_cross_validate(KNeighborsClassifier, updated_train_features.to_numpy(), train_target.to_numpy(), n_folds=5, n_neighbors=5)\n",
    "display_metrics_classification_table(*classification_metrics)\n",
    "\n",
    "knn = KNeighborsClassifier(n_neighbors=5)  # Выбираем количество соседей\n",
    "knn.fit(updated_train_features, train_target)\n",
    "\n",
    "predicted_target = knn.predict(updated_test_features)\n",
    "\n",
    "accuracy_metric = accuracy_score(test_target, predicted_target)\n",
    "precision_metric = precision_score(test_target, predicted_target, average='weighted')\n",
    "recall_metric = recall_score(test_target, predicted_target, average='weighted')\n",
    "f1_score_metric = f1_score(test_target, predicted_target, average='weighted')\n",
    "\n",
    "# Выводим результаты\n",
    "print(\"\\n=== Результаты на Тесте ===\")\n",
    "print(f\"1. Accuracy: {accuracy_metric:.2%}\")\n",
    "print(f\"2. Precision: {precision_metric:.2%}\")\n",
    "print(f\"3. Recall: {recall_metric:.2%}\")\n",
    "print(f\"4. F1-score: {f1_score_metric:.2%}\")"
   ]
  },
  {
   "cell_type": "markdown",
   "metadata": {},
   "source": [
    "Видно, что в среднем показатели метрик заметно улучшились. Результаты, полученные на тестовой выборке, также свидетельствуют о значительных приростах."
   ]
  },
  {
   "cell_type": "markdown",
   "metadata": {},
   "source": [
    "#### 4. Реализация своего класса"
   ]
  },
  {
   "cell_type": "code",
   "execution_count": 17,
   "metadata": {},
   "outputs": [],
   "source": [
    "class CustomKNNClassifier:\n",
    "    def __init__(self, n_neighbors=5):\n",
    "        self.n_neighbors = n_neighbors\n",
    "        self.n_trees = 10\n",
    "    \n",
    "    def fit(self, features, target):\n",
    "        self.train_features= np.array(features)\n",
    "        self.train_target = np.array(target)\n",
    "        self.n_features = self.train_features.shape[1]\n",
    "\n",
    "        # Создаём индекс Annoy\n",
    "        self.index = AnnoyIndex(self.n_features)\n",
    "        for i, x in enumerate(self.train_features):\n",
    "            self.index.add_item(i, x)\n",
    "        \n",
    "        # Строим деревья\n",
    "        self.index.build(self.n_trees)\n",
    "    \n",
    "    \n",
    "    def predict(self, features):\n",
    "        features = np.array(features)\n",
    "        predictions = []\n",
    "        for x in features:\n",
    "            nearest_indices = self.index.get_nns_by_vector(x, self.n_neighbors)\n",
    "            \n",
    "            nearest_labels = self.train_target[nearest_indices]\n",
    "            \n",
    "            most_common_class = Counter(nearest_labels).most_common(1)[0][0]\n",
    "            predictions.append(most_common_class)\n",
    "        \n",
    "        return np.array(predictions)"
   ]
  },
  {
   "cell_type": "code",
   "execution_count": 18,
   "metadata": {},
   "outputs": [
    {
     "name": "stdout",
     "output_type": "stream",
     "text": [
      "| Metric    |     Mean |   Std Dev |\n",
      "|:----------|---------:|----------:|\n",
      "| Accuracy  | 0.786791 | 0.0231232 |\n",
      "| Precision | 0.772564 | 0.0272339 |\n",
      "| Recall    | 0.786791 | 0.0231232 |\n",
      "| F1-score  | 0.77609  | 0.0272324 |\n",
      "\n",
      "=== Результаты на Тесте ===\n",
      "1. Accuracy: 77.20%\n",
      "2. Precision: 75.07%\n",
      "3. Recall: 77.20%\n",
      "4. F1-score: 75.56%\n"
     ]
    }
   ],
   "source": [
    "classification_metrics = classification_cross_validate(CustomKNNClassifier, train_features.to_numpy(), train_target.to_numpy(), n_folds=5, n_neighbors=3)\n",
    "display_metrics_classification_table(*classification_metrics)\n",
    "\n",
    "knn = CustomKNNClassifier(n_neighbors=3)\n",
    "knn.fit(train_features, train_target)\n",
    "\n",
    "predicted_target = knn.predict(test_features)\n",
    "\n",
    "accuracy_metric = accuracy_score(test_target, predicted_target)\n",
    "precision_metric = precision_score(test_target, predicted_target, average='weighted')\n",
    "recall_metric = recall_score(test_target, predicted_target, average='weighted')\n",
    "f1_score_metric = f1_score(test_target, predicted_target, average='weighted')\n",
    "\n",
    "# Выводим результаты\n",
    "print(\"\\n=== Результаты на Тесте ===\")\n",
    "print(f\"1. Accuracy: {accuracy_metric:.2%}\")\n",
    "print(f\"2. Precision: {precision_metric:.2%}\")\n",
    "print(f\"3. Recall: {recall_metric:.2%}\")\n",
    "print(f\"4. F1-score: {f1_score_metric:.2%}\")"
   ]
  },
  {
   "cell_type": "code",
   "execution_count": 19,
   "metadata": {},
   "outputs": [
    {
     "name": "stdout",
     "output_type": "stream",
     "text": [
      "| Metric    |     Mean |   Std Dev |\n",
      "|:----------|---------:|----------:|\n",
      "| Accuracy  | 0.799877 | 0.0209608 |\n",
      "| Precision | 0.785339 | 0.0227115 |\n",
      "| Recall    | 0.799877 | 0.0209608 |\n",
      "| F1-score  | 0.786846 | 0.0238761 |\n",
      "\n",
      "=== Результаты на Тесте ===\n",
      "1. Accuracy: 78.32%\n",
      "2. Precision: 75.87%\n",
      "3. Recall: 78.32%\n",
      "4. F1-score: 75.32%\n"
     ]
    }
   ],
   "source": [
    "classification_metrics = classification_cross_validate(CustomKNNClassifier, updated_train_features.to_numpy(), train_target.to_numpy(), n_folds=5, n_neighbors=5)\n",
    "display_metrics_classification_table(*classification_metrics)\n",
    "\n",
    "knn = CustomKNNClassifier(n_neighbors=5)\n",
    "knn.fit(updated_train_features, train_target)\n",
    "\n",
    "predicted_target = knn.predict(updated_test_features)\n",
    "\n",
    "accuracy_metric = accuracy_score(test_target, predicted_target)\n",
    "precision_metric = precision_score(test_target, predicted_target, average='weighted')\n",
    "recall_metric = recall_score(test_target, predicted_target, average='weighted')\n",
    "f1_score_metric = f1_score(test_target, predicted_target, average='weighted')\n",
    "\n",
    "# Выводим результаты\n",
    "print(\"\\n=== Результаты на Тесте ===\")\n",
    "print(f\"1. Accuracy: {accuracy_metric:.2%}\")\n",
    "print(f\"2. Precision: {precision_metric:.2%}\")\n",
    "print(f\"3. Recall: {recall_metric:.2%}\")\n",
    "print(f\"4. F1-score: {f1_score_metric:.2%}\")"
   ]
  },
  {
   "cell_type": "markdown",
   "metadata": {},
   "source": [
    "Результаты показывают, что собственная реализация модели в среднем уступает по качеству модели из `sklearn`, однако демонстрирует приросты при использовании улучшенного бейзлайна."
   ]
  },
  {
   "cell_type": "markdown",
   "metadata": {},
   "source": [
    "### Заключение"
   ]
  },
  {
   "cell_type": "markdown",
   "metadata": {},
   "source": [
    "Изменения, такие как OneHotEncoding и увеличение количества соседей в алгоритме поиска ближайших соседей, способствуют повышению точности модели. Эксперименты показывают, что собственная реализация и модели из библиотеки sklearn обеспечивают сопоставимые результаты."
   ]
  },
  {
   "cell_type": "markdown",
   "metadata": {},
   "source": [
    "| Модель                    |      MSE  |        MAE |      $R^2$ |\n",
    "|:--------------------------|----------:|-----------:|-----------:|\n",
    "| Sklearn (до улучшения)    | 301414.49 | 349.37     |  0.38      |\n",
    "| Sklearn (после улучшения) | 101359.24 | 207.16     |  0.79      |\n",
    "| Собственная имплементация (до улучшения)   | 301308.79 |  349.13   |  0.38     |\n",
    "| Собственная имплементация (после улучшения)| 101052.34  | 206.55    |  0.79      |"
   ]
  },
  {
   "cell_type": "markdown",
   "metadata": {},
   "source": [
    "| Модель                    |  Accuracy |  Precision |     Recall |    F1-scor |\n",
    "|:--------------------------|----------:|-----------:|-----------:|-----------:|\n",
    "| Sklearn (до улучшения)    |   80.56%  |  78.99%   |  80.56%   |  78.42%    |\n",
    "| Sklearn (после улучшения) |   83.36%  |   82.46%   |  83.36%   |  82.55%    |\n",
    "| Собственная имплементация (до улучшения)   |   77.20%  |   75.07%   |  77.20%    |  75.56%    |\n",
    "| Собственная имплементация (после улучшения)|   78.32%  |   75.87%   |  78.32%    |  75.32%    |"
   ]
  }
 ],
 "metadata": {
  "kernelspec": {
   "display_name": "labs",
   "language": "python",
   "name": "python3"
  },
  "language_info": {
   "codemirror_mode": {
    "name": "ipython",
    "version": 3
   },
   "file_extension": ".py",
   "mimetype": "text/x-python",
   "name": "python",
   "nbconvert_exporter": "python",
   "pygments_lexer": "ipython3",
   "version": "3.9.19"
  }
 },
 "nbformat": 4,
 "nbformat_minor": 2
}
